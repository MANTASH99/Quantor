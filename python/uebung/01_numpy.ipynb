{
 "cells": [
  {
   "cell_type": "markdown",
   "id": "2519b6b6-1bca-48ce-a07e-6f1a36bf6aa7",
   "metadata": {},
   "source": [
    "# Vektoren und Matrizen in NumPy"
   ]
  },
  {
   "cell_type": "markdown",
   "id": "52c49ccc-723a-457d-bc13-e1c565342446",
   "metadata": {},
   "source": [
    "Das Paket `numpy` (_Numeric Python_) wird üblicherweise unter der Abkürzung `np` importiert, das verbreitete `matplotlib` für Visualisierungen unter `plt`."
   ]
  },
  {
   "cell_type": "code",
   "execution_count": null,
   "id": "79b6a29a-3c4c-4212-9028-57e2a22e4d85",
   "metadata": {},
   "outputs": [],
   "source": [
    "import numpy as np\n",
    "import matplotlib.pyplot as plt\n",
    "import sklearn\n",
    "import sklearn.datasets"
   ]
  },
  {
   "cell_type": "markdown",
   "id": "401115f8-dbc9-4339-8446-4f0b0ee0b2fb",
   "metadata": {},
   "source": [
    "## Vektoren und Matrizen"
   ]
  },
  {
   "cell_type": "markdown",
   "id": "dcd44d86-7387-4a0f-9b61-b8336a12ea05",
   "metadata": {},
   "source": [
    "In `numpy` sind Vektoren und Matrizen Spezialfälle der allgemeinen Datenstruktur **Array**, die auch mehr als zwei Achsen haben kann. Arrays unterscheiden sich von Python-Listen v.a. darin, dass sie nur Elemente des gleichen Typs (meistens Gleitkommazahlen) enthalten."
   ]
  },
  {
   "cell_type": "code",
   "execution_count": null,
   "id": "a684834e-512b-4714-a778-57421e14fb32",
   "metadata": {},
   "outputs": [],
   "source": [
    "x = np.array([1, 2, 3]) # Vektor\n",
    "x"
   ]
  },
  {
   "cell_type": "code",
   "execution_count": null,
   "id": "65c2f261-62ee-498c-ada4-07980ea7334e",
   "metadata": {},
   "outputs": [],
   "source": [
    "M = np.array([[11, 12, 13], [21, 22, 23], [31, 32, 33]]) # Matrix\n",
    "M"
   ]
  },
  {
   "cell_type": "markdown",
   "id": "b7bbad8f-349b-4d46-890e-5939bdc9f2fb",
   "metadata": {},
   "source": [
    "Das Format (_shape_) des Arrays zeigt uns, dass $\\mathbf{x}\\in \\mathbb{R}^3$ und $\\mathbf{M}\\in \\mathbb{R}^{3\\times 3}$ ist."
   ]
  },
  {
   "cell_type": "code",
   "execution_count": null,
   "id": "1d1013c6-bb63-4379-afd5-f7613bb6feb6",
   "metadata": {},
   "outputs": [],
   "source": [
    "print(x.shape)\n",
    "print(M.shape)"
   ]
  },
  {
   "cell_type": "markdown",
   "id": "04b77856-0d73-4fc5-b560-85ae317171c5",
   "metadata": {},
   "source": [
    "Einige andere Möglichkeiten, Vektoren und Arrays zu erzeugen:"
   ]
  },
  {
   "cell_type": "code",
   "execution_count": null,
   "id": "06a55076-a3c9-4da7-ad49-9c087a670e9e",
   "metadata": {},
   "outputs": [],
   "source": [
    "print( np.zeros((3, 5))    )\n",
    "print( np.ones((3, 5))     )\n",
    "print( np.full((3, 5), 42) )\n",
    "print( np.eye(3)           ) # Identitätsmatrix (=> später)"
   ]
  },
  {
   "cell_type": "markdown",
   "id": "2c9f4d4c-0313-4906-a142-493151e1e339",
   "metadata": {},
   "source": [
    "Vektoren aus Zahlenfolgen (praktisch für Beispiele):"
   ]
  },
  {
   "cell_type": "code",
   "execution_count": null,
   "id": "05cb5fa5-cc38-484a-9eb4-3877b8ae1e34",
   "metadata": {},
   "outputs": [],
   "source": [
    "print(np.arange(10, 21, 2))\n",
    "print(np.linspace(1, 2, 6))"
   ]
  },
  {
   "cell_type": "markdown",
   "id": "3a0f25c4-9afe-4c8e-9b9f-71fb4ef816bb",
   "metadata": {},
   "source": [
    "Matrix kann daraus durch Umformen (_reshape_) erstellt werden (wird zeilenweise befüllt)."
   ]
  },
  {
   "cell_type": "code",
   "execution_count": null,
   "id": "9e5ac8ed-77f7-4218-b580-c132da812d3c",
   "metadata": {},
   "outputs": [],
   "source": [
    "np.arange(1, 16).reshape((3, 5))"
   ]
  },
  {
   "cell_type": "markdown",
   "id": "3047af27-2fb9-4138-9346-74d8deadffc6",
   "metadata": {},
   "source": [
    "Mehr Abwechslung durch Zufallsvektoren und -matrizen:"
   ]
  },
  {
   "cell_type": "code",
   "execution_count": null,
   "id": "e0542e4e-a6d0-4561-bbcf-368dd627be3a",
   "metadata": {},
   "outputs": [],
   "source": [
    "print(np.random.random(size=(3, 5)))\n",
    "print(np.random.normal(0, 1, size=(10,)))"
   ]
  },
  {
   "cell_type": "markdown",
   "id": "fe76fac0-b165-4977-87b9-b26a90317f6c",
   "metadata": {},
   "source": [
    "Zugriff auf einzelne Elemente und Teilbereiche (_slices_) durch Indexierung:"
   ]
  },
  {
   "cell_type": "code",
   "execution_count": null,
   "id": "764ff149-0d74-4462-8a6c-cac3bf766562",
   "metadata": {},
   "outputs": [],
   "source": [
    "print(x[2])\n",
    "print(M[1, 0])"
   ]
  },
  {
   "cell_type": "code",
   "execution_count": null,
   "id": "3a456cd8-d913-4bea-9afc-c4dedfb191f5",
   "metadata": {},
   "outputs": [],
   "source": [
    "print(x[0:2])\n",
    "print(M[:2, 1:])\n",
    "print(M[1, :])   # Was ist der \n",
    "print(M[1:2, :]) # Unterschied?"
   ]
  },
  {
   "cell_type": "markdown",
   "id": "1715554d-e4db-4296-b845-51096021c3b8",
   "metadata": {},
   "source": [
    "Elemente können durch Zuweisung auch verändert werden:"
   ]
  },
  {
   "cell_type": "code",
   "execution_count": null,
   "id": "9abd87f2-ec5b-46fb-a470-15f1423b7fa3",
   "metadata": {},
   "outputs": [],
   "source": [
    "x[2] = 42\n",
    "x"
   ]
  },
  {
   "cell_type": "code",
   "execution_count": null,
   "id": "40c7b240-735b-4fb6-bb78-a55bd52e0fea",
   "metadata": {},
   "outputs": [],
   "source": [
    "M[1, :] = np.arange(41, 44)\n",
    "M"
   ]
  },
  {
   "cell_type": "markdown",
   "id": "c8833eb9-34cb-4ce5-b7db-8298bb9208dd",
   "metadata": {},
   "source": [
    "**Achtung:** Teilbereiche sind keine Kopien, sondern Referenzen in das ursprüngliche Array. Sie können mit `.copy()` in eine unabhängige Kopie verwandelt werden."
   ]
  },
  {
   "cell_type": "code",
   "execution_count": null,
   "id": "8c3935e9-60d0-428c-ac2d-399700bdce7a",
   "metadata": {},
   "outputs": [],
   "source": [
    "M1 = M[1:, 1:]\n",
    "M1 *= 0\n",
    "M"
   ]
  },
  {
   "cell_type": "markdown",
   "id": "d3ea8bb8-a8cd-4d4f-a075-b86f1fd8d935",
   "metadata": {},
   "source": [
    "Auch die Zuweisung ganzer Arrays erzeugt keine Kopien:"
   ]
  },
  {
   "cell_type": "code",
   "execution_count": null,
   "id": "7da60bd0-646a-4d39-a9df-b53406cf0138",
   "metadata": {},
   "outputs": [],
   "source": [
    "y = x\n",
    "y[2] = 54\n",
    "x"
   ]
  },
  {
   "cell_type": "markdown",
   "id": "6bebee6c-fd81-435a-b9b5-288a216dc733",
   "metadata": {
    "tags": []
   },
   "source": [
    "## Vektor-Operationen"
   ]
  },
  {
   "cell_type": "markdown",
   "id": "caca26b3-6c4d-410f-8b77-0ce64f5e3ead",
   "metadata": {},
   "source": [
    "Als Beispiel definieren wir zwei Vektoren $\\mathbf{x}, \\mathbf{y}\\in \\mathbb{R}^5$."
   ]
  },
  {
   "cell_type": "code",
   "execution_count": null,
   "id": "5394b900-4f1e-4d85-8839-f0c3ae165222",
   "metadata": {},
   "outputs": [],
   "source": [
    "x = np.arange(1, 6)\n",
    "y = np.linspace(.8, 0, 5)"
   ]
  },
  {
   "cell_type": "markdown",
   "id": "707eac9c-e6d3-4b37-b198-c28f9c06f4e7",
   "metadata": {},
   "source": [
    "Mit `np.concatenate`, `np.hstack` und `np.vstack` können Vektoren zu Matrizen verkettet werden. Hier nutzen wir diese Möglichkeit nur zur übersichtlichen Anzeige:"
   ]
  },
  {
   "cell_type": "code",
   "execution_count": null,
   "id": "c436d3d2-58b3-4c95-b108-8c3293200443",
   "metadata": {},
   "outputs": [],
   "source": [
    "np.vstack([x, y])"
   ]
  },
  {
   "cell_type": "markdown",
   "id": "bce7b306-369a-4722-aa53-1f9ec177d24f",
   "metadata": {},
   "source": [
    "Elementare Vektoroperationen sind die **Addition** $\\mathbf{x} + \\mathbf{y}$ und **Skalarmultiplikation** $\\lambda \\mathbf{x}$."
   ]
  },
  {
   "cell_type": "code",
   "execution_count": null,
   "id": "ac018d9a-696a-455d-8539-af436ab1451d",
   "metadata": {},
   "outputs": [],
   "source": [
    "print(x + y)\n",
    "print(10 * x)"
   ]
  },
  {
   "cell_type": "markdown",
   "id": "df28c7ee-38b2-4f38-bfe8-1c2c21183994",
   "metadata": {},
   "source": [
    "Vektoren können natürlich nur addiert werden, wenn sie aus dem gleichen Vektorraum kommen (d.h. das gleiche _shape_ haben)."
   ]
  },
  {
   "cell_type": "code",
   "execution_count": null,
   "id": "d685373e-a3f0-4ba6-ab2a-b8e56ec694d1",
   "metadata": {},
   "outputs": [],
   "source": [
    "x + np.arange(1, 4)"
   ]
  },
  {
   "cell_type": "markdown",
   "id": "f9a47f1c-c680-402b-87e9-7195507af0dd",
   "metadata": {},
   "source": [
    "Auch andere arithmetische Operationen und mathematische Funktionen werden **elementweise** ausgeführt, z.B. das **Hadamard-Produkt** $\\mathbf{x}\\odot \\mathbf{y}$.  Für mathematischen Funktionen müssen die Implementierungen aus `np` verwendet werden, nicht aus `math`."
   ]
  },
  {
   "cell_type": "code",
   "execution_count": null,
   "id": "c9c6f6a7-f514-4b70-b9b5-d3b173c5e416",
   "metadata": {},
   "outputs": [],
   "source": [
    "print(x * y)\n",
    "print(x ** 2)\n",
    "print(x ** x)\n",
    "print(-y)\n",
    "print(np.cos(y))"
   ]
  },
  {
   "cell_type": "markdown",
   "id": "af39287f-7d10-4b68-a280-437d263b51b9",
   "metadata": {},
   "source": [
    "Wir können auch Summe und Produkt aller Elemente bilden, oder Minimum und Maximum finden."
   ]
  },
  {
   "cell_type": "code",
   "execution_count": null,
   "id": "8902c5e8-df31-419c-bf23-76f00740c806",
   "metadata": {},
   "outputs": [],
   "source": [
    "print(np.sum(y))\n",
    "print(np.prod(x)) # 5! (Fakultät)\n",
    "print(np.min(y))\n",
    "print(np.max(y))\n",
    "print(np.argmin(y)) # Was macht das?"
   ]
  },
  {
   "cell_type": "markdown",
   "id": "61ed48c4-373f-486e-b29a-141a5b5fd0fd",
   "metadata": {},
   "source": [
    "> **Aufgabe:**\n",
    "> - Berechnen Sie den Mittelwert der Elemente von $\\mathbf{x}$ und $\\mathbf{y}$ (jeweils separat).\n",
    "> - Vergleichen Sie Ihr Ergebnis mit der Ausgabe von `np.mean()`.\n",
    "> - Wie können Sie am einfachsten den Mittelwert über beide Vektoren hinweg bestimmen?"
   ]
  },
  {
   "cell_type": "code",
   "execution_count": null,
   "id": "6d5d17f9-f97b-41b6-876d-16c0bba9c9e6",
   "metadata": {},
   "outputs": [],
   "source": []
  },
  {
   "cell_type": "markdown",
   "id": "ddf9ac9a-9c68-451e-8277-4268c3c70200",
   "metadata": {},
   "source": [
    "## Matrix-Operationen"
   ]
  },
  {
   "cell_type": "markdown",
   "id": "ec25d859-e596-4171-88a7-06c0e455a804",
   "metadata": {},
   "source": [
    "Auch hier definieren wir zwei einfache Beispielmatrizen $\\mathbf{A}, \\mathbf{B}\\in \\mathbb{R}^{3\\times 5}$"
   ]
  },
  {
   "cell_type": "code",
   "execution_count": null,
   "id": "9e5de522-2997-42e4-b20a-a8ba995ef6bc",
   "metadata": {},
   "outputs": [],
   "source": [
    "A = np.arange(1, 16).reshape((3, 5))\n",
    "B = np.array([ np.full(5, x) for x in (100, 200, 300) ])\n",
    "print(A)\n",
    "print(B)"
   ]
  },
  {
   "cell_type": "markdown",
   "id": "c31f4c69-e33f-4e85-aaaa-a20bfcea16d7",
   "metadata": {},
   "source": [
    "Matrizen des gleichen Formats bilden ebenfalls einen Vektorraum mit Addition $\\mathbf{A} + \\mathbf{B}$ und Skalarprodukt $\\lambda \\mathbf{A}$."
   ]
  },
  {
   "cell_type": "code",
   "execution_count": null,
   "id": "859a0a7f-e1f6-4c4a-bf14-f6edd588772a",
   "metadata": {},
   "outputs": [],
   "source": [
    "print(A + B)\n",
    "print(10 * A)"
   ]
  },
  {
   "cell_type": "markdown",
   "id": "e949bac4-8739-407b-9c24-8444fffb7f31",
   "metadata": {},
   "source": [
    "Wie bei Vektoren werden auch alle anderen arithmetischen Operationen und mathematischen Funktionen elementweise ausgeführt, u.a. $\\mathbf{A}\\odot \\mathbf{B}$ und $\\sqrt{\\mathbf{B}}$."
   ]
  },
  {
   "cell_type": "code",
   "execution_count": null,
   "id": "5ff8c6f9-687a-40b1-ab47-cf4aa7447b25",
   "metadata": {},
   "outputs": [],
   "source": [
    "print(A * B)\n",
    "print(np.sqrt(B))"
   ]
  },
  {
   "cell_type": "markdown",
   "id": "c6d7ffef-9e13-4a37-a610-d56803f30d5e",
   "metadata": {},
   "source": [
    "Weitere spezielle Matrix-Operationen, u.a. die **Matrixmultiplikation** $\\mathbf{A} \\mathbf{B}$, lernen wir in den nächsten Wochen noch kennen."
   ]
  },
  {
   "cell_type": "markdown",
   "id": "1496243e-0bfc-4415-8215-10c7fd5ab648",
   "metadata": {},
   "source": [
    "Wir können wiederum das Maximum und Minimum einer Matrix bestimmen, sowie Summe und Produkt aller Elemente."
   ]
  },
  {
   "cell_type": "code",
   "execution_count": null,
   "id": "fdefba19-c433-4fdb-9687-7eef6de63a3f",
   "metadata": {},
   "outputs": [],
   "source": [
    "print(np.max(A))\n",
    "print(np.sum(B))"
   ]
  },
  {
   "cell_type": "markdown",
   "id": "b4c49c72-4f54-42f9-9c87-8a692624501a",
   "metadata": {},
   "source": [
    "Viel interessanter ist es aber oft, diese Operationen **spaltenweise** bzw. **zeilenweise** auszuführen, was mit dem optionalen Argument `axis=` erreicht werden kann."
   ]
  },
  {
   "cell_type": "code",
   "execution_count": null,
   "id": "38bb446e-dd2a-460e-bcd4-152e7b6d0d9f",
   "metadata": {},
   "outputs": [],
   "source": [
    "print(np.max(A, axis=1)) # Achse 1 = Spaltenindex => Maximum über die Elemente einer Zeile\n",
    "print(np.sum(B, axis=0)) # Achse 0 = Zeilenindex => Summe über die Elemente einer Spalte"
   ]
  },
  {
   "cell_type": "markdown",
   "id": "766fff48-9584-4311-8511-0e5a38d2762e",
   "metadata": {},
   "source": [
    "> **Aufgabe:** Berechnen Sie die Mittelwerte der Zeilen und Spalten von $\\mathbf{A}$."
   ]
  },
  {
   "cell_type": "code",
   "execution_count": null,
   "id": "4f8ac0e5-3e59-4bf0-b34d-199b156d225e",
   "metadata": {},
   "outputs": [],
   "source": []
  },
  {
   "cell_type": "markdown",
   "id": "c75a48fe-2aa2-49cc-9213-7c9f38752186",
   "metadata": {},
   "source": [
    "## Kombination von Vektoren und Matrizen"
   ]
  },
  {
   "cell_type": "markdown",
   "id": "0a3f8638-9d04-41c6-a9a9-066f50c5aba7",
   "metadata": {},
   "source": [
    "Ein Vektor $\\mathbf{x}\\in \\mathbf{R}^n$ kann auch als Matrix mit einer Spalte bzw. einer Zeile aufgefasst werden. Wir sprechen dann von einem **Spaltenvektor** $\\mathbf{x}\\in \\mathbf{R}^{n\\times 1}$ bzw. einem **Zeilenvektor** $\\mathbf{x}^T\\in \\mathbf{R}^{1\\times n}$. Die Notation $\\mathbf{A}^T$ bezeichnet dabei die **Transposition** der Matrix $\\mathbf{A}$."
   ]
  },
  {
   "cell_type": "markdown",
   "id": "5605fd4f-34c3-4207-9fc2-e223a2ba2c23",
   "metadata": {},
   "source": [
    "Formal handelt es sich bei Spalten- und Zeilenvektor um Matrizen, nicht um Vektoren. Sie müssen deshalb in NumPy durch eine entsprechende Formatänderung erstellt werden.  Zunächst der Spaltenvektor, der auf zwei verschiedene Arten erstellt werden kann:"
   ]
  },
  {
   "cell_type": "code",
   "execution_count": null,
   "id": "b478d777-016d-4dfb-8cdc-c6e2a152dca0",
   "metadata": {},
   "outputs": [],
   "source": [
    "xC = x.reshape((5, 1))  # Überzeugen Sie sich, dass beide das gleich Ergebnis liefern.\n",
    "xC = x[:, np.newaxis]   # Was ist der Vorteil dieser Variante?\n",
    "xC = x.reshape((-1, 1)) # eine weitere geschickte Lösung\n",
    "xC"
   ]
  },
  {
   "cell_type": "markdown",
   "id": "5c7c87f4-c3e4-4cb5-a7c0-610180b58444",
   "metadata": {},
   "source": [
    "Der Zeilenvektor kann analog direkt erstellt werden, oder geht durch Transposition aus dem Spaltenvektor hervor:"
   ]
  },
  {
   "cell_type": "code",
   "execution_count": null,
   "id": "4c76d865-ef72-4f6a-b22d-b1f8059d773c",
   "metadata": {},
   "outputs": [],
   "source": [
    "xR = x.reshape((1, 5))\n",
    "xR = x[np.newaxis, :]\n",
    "xR = x.reshape((1, -1))\n",
    "xR = xC.T\n",
    "xR # Sehen Sie den Unterschied zur Darstellung von x?"
   ]
  },
  {
   "cell_type": "markdown",
   "id": "af77a523-de8c-438a-89e1-d8abf5c0ac6d",
   "metadata": {},
   "source": [
    "**Achtung:** `xR` und `xC` sind wieder keine echten Kopien, sondern Referenzen. Wenn Sie z.B. `xR *= 2` ausführen, werden auch `x` und `xC` verändert!"
   ]
  },
  {
   "cell_type": "markdown",
   "id": "a4c6414a-4d8d-4904-822d-a34d90499ed3",
   "metadata": {},
   "source": [
    "Wenn wir eine Operation auf eine Matrix und einen Zeilenvektor anwenden, dann werden die Elemente des Vektors automatisch für jede Zeile der Matrix wiederholt. Man nennt dieses Verhalten von NumPy **Broadcasting**."
   ]
  },
  {
   "cell_type": "code",
   "execution_count": null,
   "id": "8f10613c-6702-493f-a041-808fd0dd23b5",
   "metadata": {},
   "outputs": [],
   "source": [
    "B + xR"
   ]
  },
  {
   "cell_type": "markdown",
   "id": "af5ffc1f-f87a-4a9b-a2ec-ca3f35061c29",
   "metadata": {},
   "source": [
    "**Achtung:** Entgegen der üblichen mathematischen Notation wird ein „normaler“ Vektor beim Broadcasting als Zeilenvektor $\\mathbf{x}^T$ interpretiert, nicht als Spaltenvektor, d.h. es wird automatisch die fehlende zusätzliche Achse an _erster_ Stelle eingefügt.  Es ist empfehlenswert, immer zunächst explizit einen Zeilen- oder Spaltenvektor zu erstellen."
   ]
  },
  {
   "cell_type": "code",
   "execution_count": null,
   "id": "68928494-24d2-4e3d-a2c3-3f1e9a769f65",
   "metadata": {},
   "outputs": [],
   "source": [
    "B + x"
   ]
  },
  {
   "cell_type": "markdown",
   "id": "939814a9-cb80-4190-8bd8-6c75e90cb8aa",
   "metadata": {},
   "source": [
    "> **Aufgabe:** Angenommen, die Elemente von $\\mathbf{A}$ würden Worthäufigkeiten in Texten darstellen (also eine _bag-of-words_-Matrix). Berechnen Sie relative Häufigkeiten, indem Sie alle Werte einer Zeile jeweils durch die Zeilensumme teilen."
   ]
  },
  {
   "cell_type": "code",
   "execution_count": null,
   "id": "46129323-cda1-405b-bca8-86a6f7b6cb97",
   "metadata": {},
   "outputs": [],
   "source": []
  },
  {
   "cell_type": "markdown",
   "id": "4eff5156-b1f1-448d-aa99-2cec1d426864",
   "metadata": {},
   "source": [
    "Was passiert beim Broadcasting, wenn wir einen Zeilenvektor und einen Spaltenvektor multiplizieren?"
   ]
  },
  {
   "cell_type": "code",
   "execution_count": null,
   "id": "47ffc8bf-2112-4022-b062-6f48fce47b2b",
   "metadata": {},
   "outputs": [],
   "source": [
    "xR * xC"
   ]
  },
  {
   "cell_type": "markdown",
   "id": "83706f59-aa3f-4af9-ac6a-b8b2697f2a8f",
   "metadata": {},
   "source": [
    "## Das klassische Beispiel: Schwertlilien"
   ]
  },
  {
   "cell_type": "markdown",
   "id": "cd8538ed-6848-47aa-b747-b5071b28aaa1",
   "metadata": {},
   "source": [
    "Der berühmte **Iris**-Datensatz ist u.a. in Scikit-Learn enthalten:"
   ]
  },
  {
   "cell_type": "code",
   "execution_count": null,
   "id": "c3132c07-5801-4ba3-b296-47245fc25b2d",
   "metadata": {},
   "outputs": [],
   "source": [
    "iris = sklearn.datasets.load_iris()"
   ]
  },
  {
   "cell_type": "markdown",
   "id": "e1268927-91de-45fb-805a-ddd29ed531ba",
   "metadata": {},
   "source": [
    "Nicht vergessen: immer die zugehörige Dokumentation lesen!"
   ]
  },
  {
   "cell_type": "code",
   "execution_count": null,
   "id": "7712a151-837c-46c5-9d46-5e5b598f70b5",
   "metadata": {},
   "outputs": [],
   "source": [
    "print(iris.DESCR)"
   ]
  },
  {
   "cell_type": "markdown",
   "id": "3376854d-4688-4d5a-a855-7a5951f3d1ea",
   "metadata": {},
   "source": [
    "Im maschinellen Lernen ist es üblich, die **Merkmalsmatrix** mit $\\mathbf{X}$ zu bezeichnen und den (Spalten-)Vektor der vorherzusagenden Kategorien oder numerischen **Werte** mit $\\mathbf{y}$."
   ]
  },
  {
   "cell_type": "code",
   "execution_count": null,
   "id": "d45ec0a1-e5b1-41a7-ab67-9e721c268189",
   "metadata": {},
   "outputs": [],
   "source": [
    "X = iris.data\n",
    "y = iris.target"
   ]
  },
  {
   "cell_type": "code",
   "execution_count": null,
   "id": "dff08f01-e13c-47d2-b9e6-2e56b2a121a3",
   "metadata": {},
   "outputs": [],
   "source": [
    "print(X.shape)\n",
    "print(y.shape)"
   ]
  },
  {
   "cell_type": "markdown",
   "id": "00e4be42-7196-429d-8f6b-8fea65162c56",
   "metadata": {},
   "source": [
    "Zum Ausprobieren erstellen wir eine Stichprobe von 10 Blütenexemplaren, der Einfachheit gleichmäßig über den Datensatz verteilt. Die Werte $\\mathbf{y}$ werden wir in der heutigen Sitzung nicht weiter verfolgen."
   ]
  },
  {
   "cell_type": "code",
   "execution_count": null,
   "id": "1960abe1-f059-4d6c-b32f-a18a2d286206",
   "metadata": {},
   "outputs": [],
   "source": [
    "X1 = X[5:150:15, :].copy()\n",
    "X1"
   ]
  },
  {
   "cell_type": "markdown",
   "id": "da97aa5d-bbeb-47cd-84be-5e1476c56dfe",
   "metadata": {},
   "source": [
    "NumPy-Arrays haben keine Zeilen- oder Spaltenlabel und können nur über numerisch indexiert werden. Auch die Bedeutung der Spalten erschließt sich nur durch die separat bereitgestellten Bezeichnungen:"
   ]
  },
  {
   "cell_type": "code",
   "execution_count": null,
   "id": "6f259fec-e264-493e-a682-36616e47403b",
   "metadata": {},
   "outputs": [],
   "source": [
    "print(\", \".join(iris.feature_names))"
   ]
  },
  {
   "cell_type": "markdown",
   "id": "20ea9b34-0999-4258-aeab-d4c7d8fb5177",
   "metadata": {},
   "source": [
    "Merkmalsvektor einer einzelnen Blüte: $\\mathbf{x}_{42} \\in \\mathbb{R}^4$"
   ]
  },
  {
   "cell_type": "code",
   "execution_count": null,
   "id": "bec938fc-234d-4d3b-9ad6-c6cea1837ec3",
   "metadata": {},
   "outputs": [],
   "source": [
    "X[41, :]"
   ]
  },
  {
   "cell_type": "markdown",
   "id": "dee18ee8-4819-4573-99dd-0cb0c6351f76",
   "metadata": {},
   "source": [
    "Vor allem bei solchen niedrigdimensionalen Datensätzen bietet sich als Einstieg eine Visualisierung in zwei oder drei Dimensionen an. Das Standardpaket dafür ist `matplotlib`. In den nächsten Sitzungen werden wir auch noch modernere Pakete kennenlernen. Optional können Sie aber schon die etwas hübscheren Defaulteinstellungen von `seaborn` nutzen."
   ]
  },
  {
   "cell_type": "code",
   "execution_count": null,
   "id": "48d0996c-e29a-45d2-9c6e-344728015b0e",
   "metadata": {},
   "outputs": [],
   "source": [
    "import seaborn as sns\n",
    "sns.set()"
   ]
  },
  {
   "cell_type": "markdown",
   "id": "60c24a8d-42f7-474f-ad3c-578f25f2ce9a",
   "metadata": {},
   "source": [
    "Standardvisualisierung für Merkmalsvektoren ist ein sogenannter **Scatterplot**. Dazu müssen wir jeweils zwei Dimensionen auswählen, z.B. Länge und Breite der Blütenblätter (in der dritten und vierten Spalte von $\\mathbf{X}$).  Wir verwenden hier bereits einige Optionen, um die Darstellung zu verschönern."
   ]
  },
  {
   "cell_type": "code",
   "execution_count": null,
   "id": "fee5f815-eab0-4232-89ab-2fad7d06b3d0",
   "metadata": {},
   "outputs": [],
   "source": [
    "scatter = plt.scatter(X[:,2], X[:,3], c=y, cmap='viridis')\n",
    "plt.xlabel(iris.feature_names[2])\n",
    "plt.ylabel(iris.feature_names[3])\n",
    "plt.legend(scatter.legend_elements()[0], iris.target_names)"
   ]
  },
  {
   "cell_type": "markdown",
   "id": "0ba25f6f-7e70-406d-97b0-b80cfbeb1c2f",
   "metadata": {},
   "source": [
    "> **Aufgabe:** Definieren Sie eine Hilfsfunktion, um solche Plots für jeweils zwei beliebige Merkmalsdimensionen zu erstellen."
   ]
  },
  {
   "cell_type": "code",
   "execution_count": null,
   "id": "aac3a610-a908-4212-b3df-2ea96d58f90d",
   "metadata": {},
   "outputs": [],
   "source": []
  },
  {
   "cell_type": "markdown",
   "id": "74df4b35-deef-4405-8f2e-2ffdb016ae52",
   "metadata": {},
   "source": [
    "Wir können mit `matplotlib` auch 3D-Visualisierungen erstellen:"
   ]
  },
  {
   "cell_type": "code",
   "execution_count": null,
   "id": "ce8ec87f-e211-4105-9ad6-f042a2cb5843",
   "metadata": {},
   "outputs": [],
   "source": [
    "ax = plt.axes(projection='3d')\n",
    "ax.scatter3D(X[:,2], X[:,3], X[:,0], c=y, cmap='viridis')\n",
    "ax.set_xlabel(iris.feature_names[2])\n",
    "ax.set_ylabel(iris.feature_names[3])\n",
    "ax.set_zlabel(iris.feature_names[0])"
   ]
  },
  {
   "cell_type": "markdown",
   "id": "372f127e-acee-4954-a7ff-3ebe1f76aab1",
   "metadata": {},
   "source": [
    "> **Aufgabe:** Als Maß für die Größe der Blütenblätter (_petals_) und Kelchblätter (_sepals_) ziehen wir das Produkt aus Länge und Breite heran.\n",
    "> - Verwenden Sie geeignete Vektor- und Matrixoperationen um das Blütenexemplar mit den größten Blütenblättern und das Exemplar mit den größten Kelchblättern zu finden.\n",
    "> - Erstellen Sie einen Scatterplot, der die Größe von Blüten- und Kelchblättern zeigt."
   ]
  },
  {
   "cell_type": "code",
   "execution_count": null,
   "id": "b2501582-e5b8-4a86-a0a0-b4c843044689",
   "metadata": {},
   "outputs": [],
   "source": []
  },
  {
   "cell_type": "markdown",
   "id": "4220b8d2-abbb-48cd-abaf-36a329043316",
   "metadata": {
    "tags": []
   },
   "source": [
    "## Datentransformation mit NumPy"
   ]
  },
  {
   "cell_type": "markdown",
   "id": "58aff831-a3b7-49b7-8ff1-296db4189dd5",
   "metadata": {},
   "source": [
    "Als Vorbereitung für maschinelle Lernverfahren wollen wir die vier Merkmale **standardisieren**, d.h. durch **z-scores**\n",
    "$$ z_i = \\frac{x_i - \\mu_i}{\\sigma_i} $$\n",
    "ersetzen. Als erstes benötigen wir den Vektor der Mittelwerte der Spalten von $\\mathbf{X}$ (wir verwenden hier zur übersichtlicheren Darstellung die kleinere Matrix `X1`)."
   ]
  },
  {
   "cell_type": "code",
   "execution_count": null,
   "id": "e7ec6991-ec80-4980-836c-1ceb6cf98ea5",
   "metadata": {},
   "outputs": [],
   "source": [
    "mu = X1.mean(axis=0)\n",
    "mu"
   ]
  },
  {
   "cell_type": "markdown",
   "id": "2ee21999-eab1-4e7b-84c2-d8aa3d0a50b8",
   "metadata": {},
   "source": [
    "Wir können die Merkmalsverteilungen nun **zentrieren** zu $u_i = x_i - \\mu_i$."
   ]
  },
  {
   "cell_type": "code",
   "execution_count": null,
   "id": "2216d0e0-c777-4d1a-92e7-50174e2204e5",
   "metadata": {},
   "outputs": [],
   "source": [
    "U1 = X1 - mu[np.newaxis, :]\n",
    "U1"
   ]
  },
  {
   "cell_type": "code",
   "execution_count": null,
   "id": "c93debd6-369a-4ae9-b317-26fd5c3e0c94",
   "metadata": {},
   "outputs": [],
   "source": [
    "U1.mean(axis=0) # zur Kontrolle"
   ]
  },
  {
   "cell_type": "markdown",
   "id": "16d59a8f-e803-40ae-8faa-b288fcda0fb9",
   "metadata": {},
   "source": [
    "Nun müssen wir die Varianzen berechnen:\n",
    "$$ \\sigma_i^2 = \\frac{1}{n} \\sum_{k=1}^n (x_{ki} - \\mu_i)^2 = \\frac{1}{n} \\sum_{k=1}^n u_{ki}^2 $$\n",
    "(Statistiker würden durch $n-1$ teilen statt durch $n$)."
   ]
  },
  {
   "cell_type": "code",
   "execution_count": null,
   "id": "eb7b1567-2f52-4fd8-b41b-c99a51a4daa8",
   "metadata": {},
   "outputs": [],
   "source": [
    "sigma2 = (U1 ** 2).sum(axis=0) / U1.shape[0]\n",
    "sigma2"
   ]
  },
  {
   "cell_type": "code",
   "execution_count": null,
   "id": "0faecb4d-6a45-4afd-b7f5-18bd269eef80",
   "metadata": {},
   "outputs": [],
   "source": [
    "X1.var(axis=0) # zur Kontrolle"
   ]
  },
  {
   "cell_type": "markdown",
   "id": "1e11d67c-9997-4755-a4c8-c1558545b1d9",
   "metadata": {},
   "source": [
    "Damit können wir die **z-scores** $z_i = u_i / \\sigma_i$ berechnen:"
   ]
  },
  {
   "cell_type": "code",
   "execution_count": null,
   "id": "7bb50b72-85a4-4475-852e-4f92a76089ea",
   "metadata": {},
   "outputs": [],
   "source": [
    "Z1 = U1 / np.sqrt(sigma2)[np.newaxis, :]\n",
    "Z1"
   ]
  },
  {
   "cell_type": "code",
   "execution_count": null,
   "id": "36ba7a95-2f1a-40f8-96fa-6e387b39539a",
   "metadata": {},
   "outputs": [],
   "source": [
    "Z1.std(axis=0) # Standardabweichung σ zur Kontrolle berechnen"
   ]
  },
  {
   "cell_type": "markdown",
   "id": "3e252316-8137-4cb0-b161-189ad4755c71",
   "metadata": {},
   "source": [
    "> **Aufgabe:** Standardisieren Sie nun auch die volle Matrix `X`. Schaffen Sie es mit einer einzigen Zeile Python-Code?"
   ]
  },
  {
   "cell_type": "code",
   "execution_count": null,
   "id": "645ad162-f46e-4165-85f1-13cac9666566",
   "metadata": {},
   "outputs": [],
   "source": []
  },
  {
   "cell_type": "markdown",
   "id": "3a07d2e4-1faa-45ae-a27d-9d0064a8a8ac",
   "metadata": {},
   "source": [
    "Zur Dimensionsreduktion hochdimensionaler Merkmalsräume wird oft eine Hauptkomponentenanalyse (**PCA** = _principal component analysis_) eingesetzt. Eine Implementierung dieses Algorithmus findet sich in Scikit-Learn."
   ]
  },
  {
   "cell_type": "code",
   "execution_count": null,
   "id": "177b4001-a227-4f2e-a522-f6bb17418897",
   "metadata": {},
   "outputs": [],
   "source": [
    "from sklearn.decomposition import PCA\n",
    "pca = PCA(n_components = 2)\n",
    "P1 = pca.fit_transform(Z1)\n",
    "P1"
   ]
  },
  {
   "cell_type": "markdown",
   "id": "0b56062c-2ba2-4ea3-b1eb-28d889d9e9db",
   "metadata": {},
   "source": [
    "Die PCA-Dimensionen („Hauptachsen“) sind bereits zentriert. Wir können sie also leicht erneut standardisieren, um eine sog. **Whitening** zu erreichen (oder einfach das PCA-Objekt mit der Option `whiten=True` anlegen)."
   ]
  },
  {
   "cell_type": "code",
   "execution_count": null,
   "id": "2a86ec2b-a70e-4046-8cc9-316367245e65",
   "metadata": {},
   "outputs": [],
   "source": [
    "print(P1.mean(axis=0))\n",
    "print(P1 / P1.std(axis=0))"
   ]
  },
  {
   "cell_type": "markdown",
   "id": "729f1400-5a3c-40e7-a363-26282551d761",
   "metadata": {},
   "source": [
    "> **Aufgabe:** Erstellen Sie einen Scatterplot der ersten beiden PCA-Dimensionen für den vollständigen Datensatz."
   ]
  },
  {
   "cell_type": "markdown",
   "id": "d79e7bed",
   "metadata": {},
   "source": [
    "# Pandas\n"
   ]
  },
  {
   "cell_type": "markdown",
   "id": "efa1a184",
   "metadata": {},
   "source": [
    "pandas importieren\n"
   ]
  },
  {
   "cell_type": "code",
   "execution_count": null,
   "id": "80f85a19-2b54-4d52-ace1-2b8fce03ee3b",
   "metadata": {},
   "outputs": [],
   "source": [
    "import pandas as pd"
   ]
  },
  {
   "cell_type": "markdown",
   "id": "116606eb",
   "metadata": {},
   "source": [
    "verschiede Formaten wie CSV, Excel oder JSON lesen"
   ]
  },
  {
   "cell_type": "code",
   "execution_count": null,
   "id": "bd299bec",
   "metadata": {},
   "outputs": [],
   "source": [
    "# Read a CSV file\n",
    "df = pd.read_csv('data.csv')\n",
    "\n",
    "# Read an Excel file\n",
    "df = pd.read_excel('data.xlsx')\n",
    "\n",
    "# Read a JSON file\n",
    "df = pd.read_json('data.json')"
   ]
  },
  {
   "cell_type": "code",
   "execution_count": null,
   "id": "c70aae64",
   "metadata": {},
   "outputs": [],
   "source": [
    "df = pd.read_csv('data.csv')\n",
    "print(df.head())  # Display the first 5 rows"
   ]
  },
  {
   "cell_type": "markdown",
   "id": "49f90f15",
   "metadata": {},
   "source": [
    "Mit Spalten und Zeilen arbeiten"
   ]
  },
  {
   "cell_type": "code",
   "execution_count": null,
   "id": "718695d6",
   "metadata": {},
   "outputs": [],
   "source": [
    "# Display the first 5 rows\n",
    "print(df.head())\n",
    "\n",
    "# Access a specific column\n",
    "print(df['column_name'])\n",
    "\n",
    "# Access specific rows using loc (by label) and iloc (by position)\n",
    "print(df.loc[0])   # First row by label\n",
    "print(df.iloc[0])  # First row by index\n",
    "print(df['Name'])    # Select the 'Name' column\n",
    "print(df.iloc[1:5])  # Select rows 1 to 4"
   ]
  },
  {
   "cell_type": "markdown",
   "id": "7a59c98e",
   "metadata": {},
   "source": [
    "Ein DataFrame kann aus einem Dictionary, einer Liste oder einem anderen DataFrame erstellt werden:"
   ]
  },
  {
   "cell_type": "code",
   "execution_count": null,
   "id": "cb5f2b29",
   "metadata": {},
   "outputs": [],
   "source": [
    "data = {'Name': ['John', 'Anna', 'Peter'],\n",
    "        'Age': [28, 24, 35],\n",
    "        'City': ['New York', 'London', 'Berlin']}\n",
    "\n",
    "df = pd.DataFrame(data)\n",
    "print(df)"
   ]
  },
  {
   "cell_type": "code",
   "execution_count": null,
   "id": "5500da59",
   "metadata": {},
   "outputs": [],
   "source": [
    "data = {'Name': ['Alice', 'Bob'], 'Age': [30, 25], 'Occupation': ['Engineer', 'Doctor']}\n",
    "df = pd.DataFrame(data)\n",
    "print(df)"
   ]
  },
  {
   "cell_type": "markdown",
   "id": "a997a597",
   "metadata": {},
   "source": [
    "columns und rows bearbeiten"
   ]
  },
  {
   "cell_type": "code",
   "execution_count": null,
   "id": "eb4fb7d6",
   "metadata": {},
   "outputs": [],
   "source": [
    "# Adding a new column\n",
    "df['Country'] = ['USA', 'UK', 'Germany']\n",
    "\n",
    "# Modifying an existing column\n",
    "df['Age'] = df['Age'] + 1\n",
    "\n",
    "# Dropping a column\n",
    "df = df.drop(columns=['Country'])\n",
    "\n",
    "# Dropping rows\n",
    "df = df.drop(index=[0])  # Drop the first row"
   ]
  },
  {
   "cell_type": "code",
   "execution_count": null,
   "id": "6e084f30",
   "metadata": {},
   "outputs": [],
   "source": [
    "df['Country'] = ['USA', 'UK', 'Germany']\n",
    "print(df)\n",
    "\n",
    "df = df.drop(columns=['Country'])\n",
    "print(df)"
   ]
  },
  {
   "cell_type": "markdown",
   "id": "0478a1ef",
   "metadata": {},
   "source": [
    "bestimmte Daten aus dem DataFrame extrahieren:"
   ]
  },
  {
   "cell_type": "code",
   "execution_count": null,
   "id": "c06e53e9",
   "metadata": {},
   "outputs": [],
   "source": [
    "# Filter rows where Age > 30\n",
    "filtered_df = df[df['Age'] > 30]\n",
    "\n",
    "# Sort the DataFrame by 'Age'\n",
    "sorted_df = df.sort_values(by='Age', ascending=False)"
   ]
  },
  {
   "cell_type": "code",
   "execution_count": null,
   "id": "c773b7fb",
   "metadata": {},
   "outputs": [],
   "source": [
    "filtered_df = df[df['Age'] > 30]\n",
    "print(filtered_df)\n",
    "\n",
    "sorted_df = df.sort_values(by='Age')\n",
    "print(sorted_df)"
   ]
  },
  {
   "cell_type": "markdown",
   "id": "d1deb3a0",
   "metadata": {},
   "source": [
    "Daten zurück in verschiedene Formate schreiben:"
   ]
  },
  {
   "cell_type": "code",
   "execution_count": null,
   "id": "23724b96",
   "metadata": {},
   "outputs": [],
   "source": [
    "# Export to CSV\n",
    "df.to_csv('output.csv', index=False)\n",
    "\n",
    "# Export to Excel\n",
    "df.to_excel('output.xlsx', index=False)\n",
    "\n",
    "# Export to JSON\n",
    "df.to_json('output.json')"
   ]
  }
 ],
 "metadata": {
  "kernelspec": {
   "display_name": "Python 3 (ipykernel)",
   "language": "python",
   "name": "python3"
  },
  "language_info": {
   "codemirror_mode": {
    "name": "ipython",
    "version": 3
   },
   "file_extension": ".py",
   "mimetype": "text/x-python",
   "name": "python",
   "nbconvert_exporter": "python",
   "pygments_lexer": "ipython3",
   "version": "3.9.12"
  }
 },
 "nbformat": 4,
 "nbformat_minor": 5
}
