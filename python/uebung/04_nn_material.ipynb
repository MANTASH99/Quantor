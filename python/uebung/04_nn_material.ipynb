{
 "cells": [
  {
   "cell_type": "markdown",
   "id": "2519b6b6-1bca-48ce-a07e-6f1a36bf6aa7",
   "metadata": {},
   "source": [
    "# Material für Nearest Neighbours in NumPy"
   ]
  },
  {
   "cell_type": "markdown",
   "id": "52c49ccc-723a-457d-bc13-e1c565342446",
   "metadata": {},
   "source": [
    "Das Paket `numpy` (_Numeric Python_) wird üblicherweise unter der Abkürzung `np` importiert, das verbreitete `matplotlib` für Visualisierungen unter `plt`."
   ]
  },
  {
   "cell_type": "code",
   "execution_count": null,
   "id": "79b6a29a-3c4c-4212-9028-57e2a22e4d85",
   "metadata": {},
   "outputs": [],
   "source": [
    "import numpy as np\n",
    "import matplotlib.pyplot as plt\n",
    "import sklearn\n",
    "import sklearn.datasets"
   ]
  },
  {
   "cell_type": "markdown",
   "id": "83706f59-aa3f-4af9-ac6a-b8b2697f2a8f",
   "metadata": {},
   "source": [
    "## Das klassische Beispiel: Schwertlilien"
   ]
  },
  {
   "cell_type": "markdown",
   "id": "cd8538ed-6848-47aa-b747-b5071b28aaa1",
   "metadata": {},
   "source": [
    "Der berühmte **Iris**-Datensatz ist u.a. in Scikit-Learn enthalten:"
   ]
  },
  {
   "cell_type": "code",
   "execution_count": null,
   "id": "c3132c07-5801-4ba3-b296-47245fc25b2d",
   "metadata": {},
   "outputs": [],
   "source": [
    "iris = sklearn.datasets.load_iris()"
   ]
  },
  {
   "cell_type": "markdown",
   "id": "e1268927-91de-45fb-805a-ddd29ed531ba",
   "metadata": {},
   "source": [
    "Nicht vergessen: immer die zugehörige Dokumentation lesen!"
   ]
  },
  {
   "cell_type": "code",
   "execution_count": null,
   "id": "7712a151-837c-46c5-9d46-5e5b598f70b5",
   "metadata": {},
   "outputs": [],
   "source": [
    "print(iris.DESCR)"
   ]
  },
  {
   "cell_type": "markdown",
   "id": "3376854d-4688-4d5a-a855-7a5951f3d1ea",
   "metadata": {},
   "source": [
    "Im maschinellen Lernen ist es üblich, die **Merkmalsmatrix** mit $\\mathbf{X}$ zu bezeichnen und den (Spalten-)Vektor der vorherzusagenden Kategorien oder numerischen **Werte** mit $\\mathbf{y}$."
   ]
  },
  {
   "cell_type": "code",
   "execution_count": null,
   "id": "d45ec0a1-e5b1-41a7-ab67-9e721c268189",
   "metadata": {},
   "outputs": [],
   "source": [
    "X = iris.data\n",
    "y = iris.target"
   ]
  },
  {
   "cell_type": "code",
   "execution_count": null,
   "id": "dff08f01-e13c-47d2-b9e6-2e56b2a121a3",
   "metadata": {},
   "outputs": [],
   "source": [
    "print(X.shape)\n",
    "print(y.shape)"
   ]
  },
  {
   "cell_type": "markdown",
   "id": "00e4be42-7196-429d-8f6b-8fea65162c56",
   "metadata": {},
   "source": [
    "Zum Ausprobieren erstellen wir eine Stichprobe von 10 Blütenexemplaren, der Einfachheit gleichmäßig über den Datensatz verteilt. Die Werte $\\mathbf{y}$ werden wir in der heutigen Sitzung nicht weiter verfolgen."
   ]
  },
  {
   "cell_type": "code",
   "execution_count": null,
   "id": "1960abe1-f059-4d6c-b32f-a18a2d286206",
   "metadata": {},
   "outputs": [],
   "source": [
    "X1 = X[5:150:15, :].copy()\n",
    "X1"
   ]
  },
  {
   "cell_type": "markdown",
   "id": "da97aa5d-bbeb-47cd-84be-5e1476c56dfe",
   "metadata": {},
   "source": [
    "NumPy-Arrays haben keine Zeilen- oder Spaltenlabel und können nur über numerisch indexiert werden. Auch die Bedeutung der Spalten erschließt sich nur durch die separat bereitgestellten Bezeichnungen:"
   ]
  },
  {
   "cell_type": "code",
   "execution_count": null,
   "id": "6f259fec-e264-493e-a682-36616e47403b",
   "metadata": {},
   "outputs": [],
   "source": [
    "print(\", \".join(iris.feature_names))"
   ]
  },
  {
   "cell_type": "markdown",
   "id": "20ea9b34-0999-4258-aeab-d4c7d8fb5177",
   "metadata": {},
   "source": [
    "Merkmalsvektor einer einzelnen Blüte: $\\mathbf{x}_{42} \\in \\mathbb{R}^4$"
   ]
  },
  {
   "cell_type": "code",
   "execution_count": null,
   "id": "bec938fc-234d-4d3b-9ad6-c6cea1837ec3",
   "metadata": {},
   "outputs": [],
   "source": [
    "X[41, :]"
   ]
  },
  {
   "cell_type": "markdown",
   "id": "dee18ee8-4819-4573-99dd-0cb0c6351f76",
   "metadata": {},
   "source": [
    "Vor allem bei solchen niedrigdimensionalen Datensätzen bietet sich als Einstieg eine Visualisierung in zwei oder drei Dimensionen an. Das Standardpaket dafür ist `matplotlib`. In den nächsten Sitzungen werden wir auch noch modernere Pakete kennenlernen. Optional können Sie aber schon die etwas hübscheren Defaulteinstellungen von `seaborn` nutzen."
   ]
  },
  {
   "cell_type": "code",
   "execution_count": null,
   "id": "48d0996c-e29a-45d2-9c6e-344728015b0e",
   "metadata": {},
   "outputs": [],
   "source": [
    "import seaborn as sns\n",
    "sns.set()"
   ]
  },
  {
   "cell_type": "markdown",
   "id": "60c24a8d-42f7-474f-ad3c-578f25f2ce9a",
   "metadata": {},
   "source": [
    "Standardvisualisierung für Merkmalsvektoren ist ein sogenannter **Scatterplot**. Dazu müssen wir jeweils zwei Dimensionen auswählen, z.B. Länge und Breite der Blütenblätter (in der dritten und vierten Spalte von $\\mathbf{X}$).  Wir verwenden hier bereits einige Optionen, um die Darstellung zu verschönern."
   ]
  },
  {
   "cell_type": "code",
   "execution_count": null,
   "id": "fee5f815-eab0-4232-89ab-2fad7d06b3d0",
   "metadata": {},
   "outputs": [],
   "source": [
    "scatter = plt.scatter(X[:,2], X[:,3], c=y, cmap='viridis')\n",
    "plt.xlabel(iris.feature_names[2])\n",
    "plt.ylabel(iris.feature_names[3])\n",
    "plt.legend(scatter.legend_elements()[0], iris.target_names)"
   ]
  },
  {
   "cell_type": "markdown",
   "id": "8b7a1f9c-724d-4776-a7cc-07c520868c23",
   "metadata": {},
   "source": [
    "## Nearest Neighbours"
   ]
  },
  {
   "cell_type": "markdown",
   "id": "471a0e0f-7962-4f64-868b-196fb6fc5517",
   "metadata": {},
   "source": [
    "Schließlich können wir die **nächsten Nachbarn** zu einem gegebenen Vektor suchen, z.B. zu der fiktiven Blüte $\\mathbf{a}$, die wir gleich als Zeilenvektor anlegen."
   ]
  },
  {
   "cell_type": "code",
   "execution_count": null,
   "id": "d5bb2c31-0252-42e0-843e-29e72cce4753",
   "metadata": {},
   "outputs": [],
   "source": [
    "a = np.array([[6.5, 3.0, 4.2, 2.1]])\n",
    "a"
   ]
  },
  {
   "cell_type": "markdown",
   "id": "56d0edd0-c884-4737-92fa-110dc7f19395",
   "metadata": {},
   "source": [
    "Nun müssen wir für jeden Vektor $\\mathbf{x}_i$ im Datensatz den **euklidischen Abstand** berechnen, also\n",
    "$$ d(\\mathbf{x_i}, \\mathbf{a}) = \\sqrt{ \\sum_{j=1}^d (x_{ij} - a_j)^2 } $$\n",
    "Wir machen das zunächst als Beispiel für den Vektor $\\mathbf{x}_{42}$:"
   ]
  },
  {
   "cell_type": "code",
   "execution_count": null,
   "id": "0fc0f98a-c051-4c5d-aa8a-76c75daf909e",
   "metadata": {},
   "outputs": [],
   "source": [
    "x42 = X[41:42, :]\n",
    "x42"
   ]
  },
  {
   "cell_type": "code",
   "execution_count": null,
   "id": "b3f26689-3305-4dca-adae-d5e45a8e3332",
   "metadata": {},
   "outputs": [],
   "source": [
    "np.sqrt( ((x42 - a) ** 2).sum(axis=1) )"
   ]
  },
  {
   "cell_type": "markdown",
   "id": "4382513d-3dbf-4ef7-a439-62b28d9914bb",
   "metadata": {},
   "source": [
    "Wir haben hier explizit über die Zeilenvektoren summiert, damit die Berechnung auch dann noch funktioniert, wenn wir per Broadcasting Abstände zu _allen_ Zeilenvektoren von $\\mathbf{X}$ berechnen (hier wieder für `X1`)."
   ]
  },
  {
   "cell_type": "code",
   "execution_count": null,
   "id": "a0b18cac-90c3-452e-abb3-519082b194bd",
   "metadata": {},
   "outputs": [],
   "source": [
    "d = np.sqrt( ((X1 - a) ** 2).sum(axis=1) )\n",
    "d"
   ]
  },
  {
   "cell_type": "code",
   "execution_count": null,
   "id": "f47addd8-5dfd-46fb-aadc-43f08620f08e",
   "metadata": {},
   "outputs": [],
   "source": [
    "X1[np.argmin(d), :]"
   ]
  }
 ],
 "metadata": {
  "kernelspec": {
   "display_name": "Python 3 (ipykernel)",
   "language": "python",
   "name": "python3"
  },
  "language_info": {
   "codemirror_mode": {
    "name": "ipython",
    "version": 3
   },
   "file_extension": ".py",
   "mimetype": "text/x-python",
   "name": "python",
   "nbconvert_exporter": "python",
   "pygments_lexer": "ipython3",
   "version": "3.9.12"
  }
 },
 "nbformat": 4,
 "nbformat_minor": 5
}
