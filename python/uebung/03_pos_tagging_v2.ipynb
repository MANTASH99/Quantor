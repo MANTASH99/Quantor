{
 "cells": [
  {
   "cell_type": "markdown",
   "id": "9e990edf-7023-4ad6-add0-110a176cf5ce",
   "metadata": {},
   "source": [
    "# POS-Tagging mit maschinellen Lernverfahren"
   ]
  },
  {
   "cell_type": "code",
   "execution_count": 1,
   "id": "5b35c312",
   "metadata": {
    "tags": []
   },
   "outputs": [],
   "source": [
    "import pandas as pd\n",
    "import numpy as np\n",
    "import scipy as sp\n",
    "import re\n",
    "\n",
    "from sklearn.feature_extraction.text import CountVectorizer\n",
    "from sklearn.feature_extraction import DictVectorizer\n",
    "from sklearn.preprocessing import OneHotEncoder\n",
    "from sklearn.svm import LinearSVC\n",
    "from sklearn.linear_model import LogisticRegression, SGDClassifier\n",
    "from sklearn.metrics import accuracy_score, precision_recall_fscore_support, classification_report\n",
    "from sklearn.metrics import confusion_matrix, ConfusionMatrixDisplay"
   ]
  },
  {
   "cell_type": "markdown",
   "id": "4aa0a761-1436-485a-9b2b-eeb2060f4798",
   "metadata": {},
   "source": [
    "## Trainings- und Testdaten"
   ]
  },
  {
   "cell_type": "markdown",
   "id": "af298cb1-95f6-413b-8c57-b333018bdc0c",
   "metadata": {},
   "source": [
    "Trainings (`_train`) und Testdaten (`_dev`) laden. Da die TSV-Tabellen keine Kopfzeile haben, müssen wir sinnvolle Spaltennamen selbst festlegen. Wichtig ist dabei, dass Anführungszeichen als normale Zeichen gelesen (`quoting=3`) und `null`, `N/A` usw. nicht als undefinierte Werte interpretiert werden (sehr unintuitiv mit `keep_default_na=False`)."
   ]
  },
  {
   "cell_type": "code",
   "execution_count": 2,
   "id": "4ac6564d",
   "metadata": {},
   "outputs": [],
   "source": [
    "header = (\"sent\", \"tok\", \"word\", \"pos\", \"lemma\", \"morph\")\n",
    "train = pd.read_csv(\"data/tiger2_train.tsv.gz\", sep=\"\\t\", names=header, quoting=3, keep_default_na=False)\n",
    "test = pd.read_csv(\"data/tiger2_dev.tsv.gz\",sep=\"\\t\",names=header, quoting=3, keep_default_na=False)"
   ]
  },
  {
   "cell_type": "code",
   "execution_count": 3,
   "id": "9f5436bf-1581-4fc7-b000-24ced338dfdb",
   "metadata": {},
   "outputs": [
    {
     "data": {
      "text/html": [
       "<div>\n",
       "<style scoped>\n",
       "    .dataframe tbody tr th:only-of-type {\n",
       "        vertical-align: middle;\n",
       "    }\n",
       "\n",
       "    .dataframe tbody tr th {\n",
       "        vertical-align: top;\n",
       "    }\n",
       "\n",
       "    .dataframe thead th {\n",
       "        text-align: right;\n",
       "    }\n",
       "</style>\n",
       "<table border=\"1\" class=\"dataframe\">\n",
       "  <thead>\n",
       "    <tr style=\"text-align: right;\">\n",
       "      <th></th>\n",
       "      <th>sent</th>\n",
       "      <th>tok</th>\n",
       "      <th>word</th>\n",
       "      <th>pos</th>\n",
       "      <th>lemma</th>\n",
       "      <th>morph</th>\n",
       "    </tr>\n",
       "  </thead>\n",
       "  <tbody>\n",
       "    <tr>\n",
       "      <th>0</th>\n",
       "      <td>1</td>\n",
       "      <td>1</td>\n",
       "      <td>``</td>\n",
       "      <td>$(</td>\n",
       "      <td>--</td>\n",
       "      <td>{}</td>\n",
       "    </tr>\n",
       "    <tr>\n",
       "      <th>1</th>\n",
       "      <td>1</td>\n",
       "      <td>2</td>\n",
       "      <td>Ross</td>\n",
       "      <td>NE</td>\n",
       "      <td>Ross</td>\n",
       "      <td>{\"case\": \"nom\", \"number\": \"sg\", \"gender\": \"masc\"}</td>\n",
       "    </tr>\n",
       "    <tr>\n",
       "      <th>2</th>\n",
       "      <td>1</td>\n",
       "      <td>3</td>\n",
       "      <td>Perot</td>\n",
       "      <td>NE</td>\n",
       "      <td>Perot</td>\n",
       "      <td>{\"case\": \"nom\", \"number\": \"sg\", \"gender\": \"masc\"}</td>\n",
       "    </tr>\n",
       "    <tr>\n",
       "      <th>3</th>\n",
       "      <td>1</td>\n",
       "      <td>4</td>\n",
       "      <td>wäre</td>\n",
       "      <td>VAFIN</td>\n",
       "      <td>sein</td>\n",
       "      <td>{\"number\": \"sg\", \"person\": \"3\", \"tense\": \"past...</td>\n",
       "    </tr>\n",
       "    <tr>\n",
       "      <th>4</th>\n",
       "      <td>1</td>\n",
       "      <td>5</td>\n",
       "      <td>vielleicht</td>\n",
       "      <td>ADV</td>\n",
       "      <td>vielleicht</td>\n",
       "      <td>{}</td>\n",
       "    </tr>\n",
       "    <tr>\n",
       "      <th>...</th>\n",
       "      <td>...</td>\n",
       "      <td>...</td>\n",
       "      <td>...</td>\n",
       "      <td>...</td>\n",
       "      <td>...</td>\n",
       "      <td>...</td>\n",
       "    </tr>\n",
       "    <tr>\n",
       "      <th>449280</th>\n",
       "      <td>25000</td>\n",
       "      <td>10</td>\n",
       "      <td>``</td>\n",
       "      <td>$(</td>\n",
       "      <td>--</td>\n",
       "      <td>{}</td>\n",
       "    </tr>\n",
       "    <tr>\n",
       "      <th>449281</th>\n",
       "      <td>25000</td>\n",
       "      <td>11</td>\n",
       "      <td>wäre</td>\n",
       "      <td>VAFIN</td>\n",
       "      <td>sein</td>\n",
       "      <td>{\"number\": \"sg\", \"person\": \"3\", \"tense\": \"past...</td>\n",
       "    </tr>\n",
       "    <tr>\n",
       "      <th>449282</th>\n",
       "      <td>25000</td>\n",
       "      <td>12</td>\n",
       "      <td>Zensur</td>\n",
       "      <td>NN</td>\n",
       "      <td>Zensur</td>\n",
       "      <td>{\"case\": \"nom\", \"number\": \"sg\", \"gender\": \"fem\"}</td>\n",
       "    </tr>\n",
       "    <tr>\n",
       "      <th>449283</th>\n",
       "      <td>25000</td>\n",
       "      <td>13</td>\n",
       "      <td>''</td>\n",
       "      <td>$(</td>\n",
       "      <td>--</td>\n",
       "      <td>{}</td>\n",
       "    </tr>\n",
       "    <tr>\n",
       "      <th>449284</th>\n",
       "      <td>25000</td>\n",
       "      <td>14</td>\n",
       "      <td>.</td>\n",
       "      <td>$.</td>\n",
       "      <td>--</td>\n",
       "      <td>{}</td>\n",
       "    </tr>\n",
       "  </tbody>\n",
       "</table>\n",
       "<p>449285 rows × 6 columns</p>\n",
       "</div>"
      ],
      "text/plain": [
       "         sent  tok        word    pos       lemma  \\\n",
       "0           1    1          ``     $(          --   \n",
       "1           1    2        Ross     NE        Ross   \n",
       "2           1    3       Perot     NE       Perot   \n",
       "3           1    4        wäre  VAFIN        sein   \n",
       "4           1    5  vielleicht    ADV  vielleicht   \n",
       "...       ...  ...         ...    ...         ...   \n",
       "449280  25000   10          ``     $(          --   \n",
       "449281  25000   11        wäre  VAFIN        sein   \n",
       "449282  25000   12      Zensur     NN      Zensur   \n",
       "449283  25000   13          ''     $(          --   \n",
       "449284  25000   14           .     $.          --   \n",
       "\n",
       "                                                    morph  \n",
       "0                                                      {}  \n",
       "1       {\"case\": \"nom\", \"number\": \"sg\", \"gender\": \"masc\"}  \n",
       "2       {\"case\": \"nom\", \"number\": \"sg\", \"gender\": \"masc\"}  \n",
       "3       {\"number\": \"sg\", \"person\": \"3\", \"tense\": \"past...  \n",
       "4                                                      {}  \n",
       "...                                                   ...  \n",
       "449280                                                 {}  \n",
       "449281  {\"number\": \"sg\", \"person\": \"3\", \"tense\": \"past...  \n",
       "449282   {\"case\": \"nom\", \"number\": \"sg\", \"gender\": \"fem\"}  \n",
       "449283                                                 {}  \n",
       "449284                                                 {}  \n",
       "\n",
       "[449285 rows x 6 columns]"
      ]
     },
     "execution_count": 3,
     "metadata": {},
     "output_type": "execute_result"
    }
   ],
   "source": [
    "train"
   ]
  },
  {
   "cell_type": "markdown",
   "id": "32342f4f-7ce6-4d46-81f1-26a205de0d0f",
   "metadata": {},
   "source": [
    "Wir benötigen nur die ersten 4 Spalten (`lemma` und `morph` können wir später für andere Aufgaben nutzen)."
   ]
  },
  {
   "cell_type": "code",
   "execution_count": 4,
   "id": "27be37c5-24c1-40d4-8de8-d1420a85be55",
   "metadata": {},
   "outputs": [],
   "source": [
    "train = train.iloc[:, 0:4]\n",
    "test = test.iloc[:, 0:4]"
   ]
  },
  {
   "cell_type": "markdown",
   "id": "1f454e68-0b78-4b52-aa8c-ae1b5ad36f3a",
   "metadata": {},
   "source": [
    "Strings werden in Pandas als Arrays vom Typ `object` eingelesen.  Wir können sie explizit in spezielle `StringArray`s konvertieren, die aber [momentan wohl noch keine besonderen Performance-Vorteile](https://pandas.pydata.org/docs/user_guide/text.html) bieten."
   ]
  },
  {
   "cell_type": "code",
   "execution_count": 5,
   "id": "51e11dba",
   "metadata": {},
   "outputs": [
    {
     "data": {
      "text/plain": [
       "sent     int64\n",
       "tok      int64\n",
       "word    string\n",
       "pos     string\n",
       "dtype: object"
      ]
     },
     "execution_count": 5,
     "metadata": {},
     "output_type": "execute_result"
    }
   ],
   "source": [
    "train.word = train.word.astype('string')\n",
    "train.pos  = train.pos.astype('string')\n",
    "test.word  = test.word.astype('string')\n",
    "test.pos   = test.pos.astype('string')\n",
    "train.dtypes"
   ]
  },
  {
   "cell_type": "markdown",
   "id": "09367edb-80ba-42fd-9b81-76916c759a82",
   "metadata": {},
   "source": [
    "## Unigramm-Tagger (ohne Kontext)"
   ]
  },
  {
   "cell_type": "markdown",
   "id": "45213690-49fc-45f7-af0e-4c4829043eba",
   "metadata": {},
   "source": [
    "Wir implementieren zunächst einen Unigramm-Tagger, der nur auf Wortformen arbeitet und keine Kontextinformation hinzuzieht. Das lässt sich besonders einfach mit der Pandas-Repräsentation der Trainingsdaten umsetzen."
   ]
  },
  {
   "cell_type": "markdown",
   "id": "093e9a63-1504-4ae8-a2be-cff05ec40eb9",
   "metadata": {},
   "source": [
    "Das naheliegendste Merkmal sind die Wortformen selbst, für die wir ein Dummy Coding (_one-hot encoding_) erstellen müssen.  Dies lässt sich direkt mit dem `OneHotEncoder` erstellen (oder dem `DictVectorizer`, der aber wesentlich mehr Overhead produziert).  Ein besonders einfacher und flexibler Ansatz ist ein `CountVectorizer`, der jeweils nur ein Token als Eingabe bekommt und viele weitere Optionen anbietet.  Wir vergleichen hier die Verarbeitungsgeschwindigkeit aller drei Varianten."
   ]
  },
  {
   "cell_type": "markdown",
   "id": "c3e4a6e6-4abe-40e6-85a0-711bc1035fd5",
   "metadata": {},
   "source": [
    "**1) OneHotEncoder:** Erwartet Listen oder Tupeln von Merkmalswerten, die jeweils in ein _one-hot encoding_ überführt werden. Hier müssen wir die Wörter also in Tupel der Länge 1 transformieren. Die Option `handle_unknown` muss auf `'ignore'` gesetzt werden, damit unbekannte Wortformen in den Testdaten keinen Fehler werfen. Mit `min_frequency` und `'infrequent_if_exist'` kann eine OOV-Kodierung implementiert werden. Wir setzen hier eine Schwellenwert von $f \\ge 5$ an, damit nur halbwegs zuverlässige Lexikoninformation gelernt wird."
   ]
  },
  {
   "cell_type": "code",
   "execution_count": 6,
   "id": "957d2785-1a82-42c3-8efa-0093409d2dbe",
   "metadata": {},
   "outputs": [
    {
     "name": "stdout",
     "output_type": "stream",
     "text": [
      "CPU times: user 660 ms, sys: 34.1 ms, total: 694 ms\n",
      "Wall time: 698 ms\n",
      "CPU times: user 226 ms, sys: 10.2 ms, total: 236 ms\n",
      "Wall time: 236 ms\n"
     ]
    },
    {
     "data": {
      "text/plain": [
       "(449285, 8683)"
      ]
     },
     "execution_count": 6,
     "metadata": {},
     "output_type": "execute_result"
    }
   ],
   "source": [
    "wf_vectorizer = OneHotEncoder(handle_unknown='infrequent_if_exist', min_frequency=5)\n",
    "%time X_wf = wf_vectorizer.fit_transform([(x,) for x in train.word])\n",
    "%time testX_wf = wf_vectorizer.transform([(x,) for x in test.word])\n",
    "X_wf.shape"
   ]
  },
  {
   "cell_type": "markdown",
   "id": "3ff172ac-9edd-479b-8432-9f29356b11ec",
   "metadata": {},
   "source": [
    "**2) DictVectorizer:** Hier stehen keine Optionen zur Auswahl, insbesondere könnte ein Schwellenwert wie $f\\ge 5$ nur als zusätzliche Transformation der Merkmalsmatrix umgesetzt werden. Obwohl als Eingabe eine Liste von Dictionaries erstellt werden muss, ist dieser Ansatz schneller als der OneHotEncoder."
   ]
  },
  {
   "cell_type": "code",
   "execution_count": 7,
   "id": "1bc75a28-5746-4661-b2c9-2e7a05571d91",
   "metadata": {},
   "outputs": [
    {
     "name": "stdout",
     "output_type": "stream",
     "text": [
      "CPU times: user 446 ms, sys: 24.1 ms, total: 470 ms\n",
      "Wall time: 470 ms\n",
      "CPU times: user 189 ms, sys: 7.92 ms, total: 197 ms\n",
      "Wall time: 197 ms\n"
     ]
    },
    {
     "data": {
      "text/plain": [
       "(449285, 55803)"
      ]
     },
     "execution_count": 7,
     "metadata": {},
     "output_type": "execute_result"
    }
   ],
   "source": [
    "wf_vectorizer = DictVectorizer()\n",
    "%time X_wf = wf_vectorizer.fit_transform([{\"word\": x} for x in train.word])\n",
    "%time testX_wf = wf_vectorizer.transform([{\"word\": x} for x in test.word])\n",
    "X_wf.shape"
   ]
  },
  {
   "cell_type": "markdown",
   "id": "ac4cd44d-102d-419c-a2e5-35b113d383e6",
   "metadata": {},
   "source": [
    "**3) CountVectorizer:** Wir können das _one-hot encoding_ auch mit einem `CountVectorizer` erzeugen, der jede Wortform als ein einzelnes Token behandelt (was durch einen geeigneten Custom-Tokenizer sichergestellt werden muss). Mit `binary=True` könnten wir auch explizit erzwingen, dass eine binäre Matrix erzeugt wird. Der Schwellenwert $f\\ge 5$ lässt sich leicht mit `min_df` anwenden (in der Binärmatrix ist ja $f = \\mathit{df}$); allerdings werden hier die OOV nicht explizit repräsentiert (sondern durch einen $\\mathbf{0}$-Vektor) und müssen implizit von dem maschinellen Lernverfahren gelernt werden. Dieser Ansatz ist zwar etwas langsamer als der `DictVectorizer`, wegen seiner Flexibilität aber vorzuziehen."
   ]
  },
  {
   "cell_type": "code",
   "execution_count": 8,
   "id": "e7ef3e43-bf86-414c-8a25-e26e2d7f4cfd",
   "metadata": {},
   "outputs": [
    {
     "name": "stdout",
     "output_type": "stream",
     "text": [
      "CPU times: user 586 ms, sys: 8.13 ms, total: 595 ms\n",
      "Wall time: 595 ms\n",
      "CPU times: user 286 ms, sys: 1.92 ms, total: 288 ms\n",
      "Wall time: 288 ms\n"
     ]
    },
    {
     "data": {
      "text/plain": [
       "(449285, 8682)"
      ]
     },
     "execution_count": 8,
     "metadata": {},
     "output_type": "execute_result"
    }
   ],
   "source": [
    "wf_vectorizer = CountVectorizer(tokenizer=lambda x: (x,), lowercase=False, min_df=5)\n",
    "%time X_wf = wf_vectorizer.fit_transform(train.word)\n",
    "%time testX_wf = wf_vectorizer.transform(test.word)\n",
    "X_wf.shape"
   ]
  },
  {
   "cell_type": "markdown",
   "id": "30acd0c3-46b2-469a-87c0-cfd35c08d92a",
   "metadata": {},
   "source": [
    "Wir können nun ein erstes Lernexperiment mit einer linearen SVM durchführen (ohne Optimierung der Meta-Parameter)."
   ]
  },
  {
   "cell_type": "code",
   "execution_count": 9,
   "id": "d25fc7c1",
   "metadata": {},
   "outputs": [
    {
     "name": "stdout",
     "output_type": "stream",
     "text": [
      "CPU times: user 44 s, sys: 99.5 ms, total: 44.1 s\n",
      "Wall time: 44.2 s\n"
     ]
    },
    {
     "data": {
      "text/html": [
       "<style>#sk-container-id-1 {color: black;background-color: white;}#sk-container-id-1 pre{padding: 0;}#sk-container-id-1 div.sk-toggleable {background-color: white;}#sk-container-id-1 label.sk-toggleable__label {cursor: pointer;display: block;width: 100%;margin-bottom: 0;padding: 0.3em;box-sizing: border-box;text-align: center;}#sk-container-id-1 label.sk-toggleable__label-arrow:before {content: \"▸\";float: left;margin-right: 0.25em;color: #696969;}#sk-container-id-1 label.sk-toggleable__label-arrow:hover:before {color: black;}#sk-container-id-1 div.sk-estimator:hover label.sk-toggleable__label-arrow:before {color: black;}#sk-container-id-1 div.sk-toggleable__content {max-height: 0;max-width: 0;overflow: hidden;text-align: left;background-color: #f0f8ff;}#sk-container-id-1 div.sk-toggleable__content pre {margin: 0.2em;color: black;border-radius: 0.25em;background-color: #f0f8ff;}#sk-container-id-1 input.sk-toggleable__control:checked~div.sk-toggleable__content {max-height: 200px;max-width: 100%;overflow: auto;}#sk-container-id-1 input.sk-toggleable__control:checked~label.sk-toggleable__label-arrow:before {content: \"▾\";}#sk-container-id-1 div.sk-estimator input.sk-toggleable__control:checked~label.sk-toggleable__label {background-color: #d4ebff;}#sk-container-id-1 div.sk-label input.sk-toggleable__control:checked~label.sk-toggleable__label {background-color: #d4ebff;}#sk-container-id-1 input.sk-hidden--visually {border: 0;clip: rect(1px 1px 1px 1px);clip: rect(1px, 1px, 1px, 1px);height: 1px;margin: -1px;overflow: hidden;padding: 0;position: absolute;width: 1px;}#sk-container-id-1 div.sk-estimator {font-family: monospace;background-color: #f0f8ff;border: 1px dotted black;border-radius: 0.25em;box-sizing: border-box;margin-bottom: 0.5em;}#sk-container-id-1 div.sk-estimator:hover {background-color: #d4ebff;}#sk-container-id-1 div.sk-parallel-item::after {content: \"\";width: 100%;border-bottom: 1px solid gray;flex-grow: 1;}#sk-container-id-1 div.sk-label:hover label.sk-toggleable__label {background-color: #d4ebff;}#sk-container-id-1 div.sk-serial::before {content: \"\";position: absolute;border-left: 1px solid gray;box-sizing: border-box;top: 0;bottom: 0;left: 50%;z-index: 0;}#sk-container-id-1 div.sk-serial {display: flex;flex-direction: column;align-items: center;background-color: white;padding-right: 0.2em;padding-left: 0.2em;position: relative;}#sk-container-id-1 div.sk-item {position: relative;z-index: 1;}#sk-container-id-1 div.sk-parallel {display: flex;align-items: stretch;justify-content: center;background-color: white;position: relative;}#sk-container-id-1 div.sk-item::before, #sk-container-id-1 div.sk-parallel-item::before {content: \"\";position: absolute;border-left: 1px solid gray;box-sizing: border-box;top: 0;bottom: 0;left: 50%;z-index: -1;}#sk-container-id-1 div.sk-parallel-item {display: flex;flex-direction: column;z-index: 1;position: relative;background-color: white;}#sk-container-id-1 div.sk-parallel-item:first-child::after {align-self: flex-end;width: 50%;}#sk-container-id-1 div.sk-parallel-item:last-child::after {align-self: flex-start;width: 50%;}#sk-container-id-1 div.sk-parallel-item:only-child::after {width: 0;}#sk-container-id-1 div.sk-dashed-wrapped {border: 1px dashed gray;margin: 0 0.4em 0.5em 0.4em;box-sizing: border-box;padding-bottom: 0.4em;background-color: white;}#sk-container-id-1 div.sk-label label {font-family: monospace;font-weight: bold;display: inline-block;line-height: 1.2em;}#sk-container-id-1 div.sk-label-container {text-align: center;}#sk-container-id-1 div.sk-container {/* jupyter's `normalize.less` sets `[hidden] { display: none; }` but bootstrap.min.css set `[hidden] { display: none !important; }` so we also need the `!important` here to be able to override the default hidden behavior on the sphinx rendered scikit-learn.org. See: https://github.com/scikit-learn/scikit-learn/issues/21755 */display: inline-block !important;position: relative;}#sk-container-id-1 div.sk-text-repr-fallback {display: none;}</style><div id=\"sk-container-id-1\" class=\"sk-top-container\"><div class=\"sk-text-repr-fallback\"><pre>LinearSVC()</pre><b>In a Jupyter environment, please rerun this cell to show the HTML representation or trust the notebook. <br />On GitHub, the HTML representation is unable to render, please try loading this page with nbviewer.org.</b></div><div class=\"sk-container\" hidden><div class=\"sk-item\"><div class=\"sk-estimator sk-toggleable\"><input class=\"sk-toggleable__control sk-hidden--visually\" id=\"sk-estimator-id-1\" type=\"checkbox\" checked><label for=\"sk-estimator-id-1\" class=\"sk-toggleable__label sk-toggleable__label-arrow\">LinearSVC</label><div class=\"sk-toggleable__content\"><pre>LinearSVC()</pre></div></div></div></div></div>"
      ],
      "text/plain": [
       "LinearSVC()"
      ]
     },
     "execution_count": 9,
     "metadata": {},
     "output_type": "execute_result"
    }
   ],
   "source": [
    "%%time\n",
    "clf = LinearSVC()\n",
    "clf.fit(X_wf, train.pos)"
   ]
  },
  {
   "cell_type": "markdown",
   "id": "92641963-344f-4ec4-8f17-9e3cbf01ff30",
   "metadata": {},
   "source": [
    "Evaluation auf den Testdaten ergibt schon eine ganz passable Genauigkeit. Ein Vergleich mit den Trainingsdaten zeigt, dass die SVM kaum übertrainiert ist (**Frage:** Was könnte der Grund dafür sein?)."
   ]
  },
  {
   "cell_type": "code",
   "execution_count": 10,
   "id": "a291ee99-7575-4324-8c7a-aea066e7d63c",
   "metadata": {},
   "outputs": [
    {
     "name": "stdout",
     "output_type": "stream",
     "text": [
      "0.8560863571662708\n",
      "0.8774074362598351\n"
     ]
    }
   ],
   "source": [
    "predicted = clf.predict(testX_wf)\n",
    "print(accuracy_score(predicted, test.pos))\n",
    "\n",
    "print(clf.score(X_wf, train.pos))"
   ]
  },
  {
   "cell_type": "markdown",
   "id": "8305bfd9-8298-4a4f-8db1-9173acc18539",
   "metadata": {},
   "source": [
    "### Fehleranalyse"
   ]
  },
  {
   "cell_type": "markdown",
   "id": "9e882319-f1e8-441f-8ce4-b71e03318faa",
   "metadata": {},
   "source": [
    "Der beste Ausgangspunkt für eine gezielte Optimierung der Lernergebnisse ist oft eine detaillierte Fehleranalyse. Als ersten Schritte berechnen wir Precision und Recall separat für jede Kategorie, d.h. jedes POS-Tag:"
   ]
  },
  {
   "cell_type": "code",
   "execution_count": 11,
   "id": "a4cca51f-6134-46a6-a27e-cf9cd6b7e124",
   "metadata": {},
   "outputs": [
    {
     "name": "stdout",
     "output_type": "stream",
     "text": [
      "              precision    recall  f1-score   support\n",
      "\n",
      "          $(       1.00      1.00      1.00      7574\n",
      "          $,       1.00      1.00      1.00     11330\n",
      "          $.       1.00      1.00      1.00     11335\n",
      "        ADJA       0.96      0.54      0.69     13517\n",
      "        ADJD       0.94      0.56      0.70      4743\n",
      "         ADV       0.93      0.91      0.92     10154\n",
      "        APPO       1.00      0.67      0.80        48\n",
      "        APPR       0.91      0.96      0.94     18869\n",
      "     APPRART       0.99      0.99      0.99      3686\n",
      "        APZR       0.75      0.22      0.34        81\n",
      "         ART       0.91      1.00      0.96     24212\n",
      "        CARD       1.00      0.78      0.88      3947\n",
      "          FM       0.56      0.02      0.03       313\n",
      "         ITJ       0.00      0.00      0.00         5\n",
      "       KOKOM       0.58      0.50      0.53       719\n",
      "         KON       0.99      0.95      0.97      5657\n",
      "        KOUI       0.81      0.12      0.20       258\n",
      "        KOUS       0.98      0.86      0.92      1794\n",
      "          NE       0.97      0.48      0.65     12857\n",
      "          NN       0.67      0.99      0.80     45920\n",
      "        PDAT       0.89      0.98      0.93       704\n",
      "         PDS       0.86      0.23      0.37       815\n",
      "        PIAT       0.87      0.81      0.84      1619\n",
      "         PIS       0.84      0.54      0.66      1164\n",
      "        PPER       0.99      0.99      0.99      3435\n",
      "      PPOSAT       0.97      0.92      0.95      1711\n",
      "       PPOSS       0.00      0.00      0.00         2\n",
      "      PRELAT       0.51      0.64      0.57        73\n",
      "       PRELS       0.79      0.03      0.06      1646\n",
      "         PRF       1.00      0.98      0.99      1529\n",
      "       PROAV       0.97      0.97      0.97      1261\n",
      "        PTKA       1.00      0.06      0.11       104\n",
      "      PTKANT       0.56      0.68      0.61        22\n",
      "      PTKNEG       1.00      1.00      1.00      1282\n",
      "       PTKVZ       0.75      0.27      0.40      1287\n",
      "       PTKZU       0.61      0.99      0.76      1090\n",
      "        PWAT       0.71      0.91      0.80        46\n",
      "        PWAV       0.93      0.51      0.66       484\n",
      "         PWS       0.79      0.99      0.88       238\n",
      "       TRUNC       1.00      0.14      0.25       304\n",
      "       VAFIN       0.98      0.96      0.97      6044\n",
      "       VAIMP       0.00      0.00      0.00         1\n",
      "       VAINF       0.64      0.86      0.73       754\n",
      "        VAPP       1.00      1.00      1.00       312\n",
      "       VMFIN       0.94      0.99      0.97      2179\n",
      "       VMINF       0.00      0.00      0.00       137\n",
      "        VMPP       0.00      0.00      0.00         3\n",
      "       VVFIN       0.92      0.57      0.71      9110\n",
      "       VVIMP       1.00      0.35      0.52        31\n",
      "       VVINF       0.71      0.57      0.63      3319\n",
      "       VVIZU       1.00      0.20      0.34       396\n",
      "        VVPP       0.86      0.63      0.73      4380\n",
      "          XY       1.00      0.33      0.49       202\n",
      "\n",
      "    accuracy                           0.86    222703\n",
      "   macro avg       0.79      0.62      0.65    222703\n",
      "weighted avg       0.88      0.86      0.84    222703\n",
      "\n"
     ]
    }
   ],
   "source": [
    "print(classification_report(test.pos, predicted, zero_division=0))"
   ]
  },
  {
   "cell_type": "markdown",
   "id": "b113e084-cf68-4f5c-8367-1eb634a3c71d",
   "metadata": {},
   "source": [
    "Schlechte Ergebnisse bei offenen Wortklassen könnten zu einem erheblichen Teil auf unbekannte Wörter zurückzuführen sein, für die immer die gleiche Wortart geraten wird. Bei geschlossenen Wortklassen deuten sie darauf hin, dass Kontextinformation zur Disambiguierung notwendig wäre. So etwa bei `PTKVZ` (abgetrennte Verbpartikel, z.B. _Stephanie geht <u>aus</u>_), die oft auch Präpositionen sein können.\n",
    "\n",
    "Um diese Hypothese näher zu untersuchen, können wir z.B. eine separate Evaluation nur für unbekannte Wörter durchführen. Wir erkennen diese daran, dass ihre Merkmalsvektoren $\\mathbf{0}$ sind. Wir sehen nun, dass alle unbekannten Wörter als `NN` getaggt werden und dass es sich dabei überwiegend um offene Wortklassen handelt (Spalte _support_)."
   ]
  },
  {
   "cell_type": "code",
   "execution_count": 12,
   "id": "e4d4ce49-b247-41bc-9dfc-cd62f7bbc667",
   "metadata": {},
   "outputs": [
    {
     "name": "stdout",
     "output_type": "stream",
     "text": [
      "              precision    recall  f1-score   support\n",
      "\n",
      "        ADJA       0.00      0.00      0.00      6047\n",
      "        ADJD       0.00      0.00      0.00      1900\n",
      "         ADV       0.00      0.00      0.00       472\n",
      "        APPR       0.00      0.00      0.00        72\n",
      "     APPRART       0.00      0.00      0.00        18\n",
      "        APZR       0.00      0.00      0.00         5\n",
      "         ART       0.00      0.00      0.00         6\n",
      "        CARD       0.00      0.00      0.00       838\n",
      "          FM       0.00      0.00      0.00       259\n",
      "         ITJ       0.00      0.00      0.00         3\n",
      "         KON       0.00      0.00      0.00         6\n",
      "        KOUI       0.00      0.00      0.00         2\n",
      "        KOUS       0.00      0.00      0.00        12\n",
      "          NE       0.00      0.00      0.00      6448\n",
      "          NN       0.46      1.00      0.63     19357\n",
      "        PDAT       0.00      0.00      0.00        12\n",
      "         PDS       0.00      0.00      0.00         6\n",
      "        PIAT       0.00      0.00      0.00        37\n",
      "         PIS       0.00      0.00      0.00        43\n",
      "        PPER       0.00      0.00      0.00         6\n",
      "      PPOSAT       0.00      0.00      0.00        14\n",
      "       PPOSS       0.00      0.00      0.00         1\n",
      "       PRELS       0.00      0.00      0.00         3\n",
      "         PRF       0.00      0.00      0.00         4\n",
      "       PROAV       0.00      0.00      0.00        32\n",
      "      PTKANT       0.00      0.00      0.00         1\n",
      "       PTKVZ       0.00      0.00      0.00        38\n",
      "        PWAT       0.00      0.00      0.00         4\n",
      "        PWAV       0.00      0.00      0.00        31\n",
      "       TRUNC       0.00      0.00      0.00       258\n",
      "       VAFIN       0.00      0.00      0.00        18\n",
      "       VMFIN       0.00      0.00      0.00        14\n",
      "        VMPP       0.00      0.00      0.00         3\n",
      "       VVFIN       0.00      0.00      0.00      2757\n",
      "       VVIMP       0.00      0.00      0.00        16\n",
      "       VVINF       0.00      0.00      0.00      1106\n",
      "       VVIZU       0.00      0.00      0.00       315\n",
      "        VVPP       0.00      0.00      0.00      1463\n",
      "          XY       0.00      0.00      0.00       120\n",
      "\n",
      "    accuracy                           0.46     41747\n",
      "   macro avg       0.01      0.03      0.02     41747\n",
      "weighted avg       0.21      0.46      0.29     41747\n",
      "\n"
     ]
    }
   ],
   "source": [
    "idx_oov = testX_wf.sum(axis=1) == 0\n",
    "idx_oov = np.asarray(idx_oov).squeeze() # Spaltenvektor (Typ: np.matrix) in Vektor konvertieren\n",
    "print(classification_report(test.pos[idx_oov], predicted[idx_oov], zero_division=0))"
   ]
  },
  {
   "cell_type": "markdown",
   "id": "f1a24912-b0ba-4b97-8704-17b8a68a5642",
   "metadata": {},
   "source": [
    "Schließlich können wir noch eine Fehlermatrix (_confusion matrix_) berechnen, die die häufigsten Fehler aufzeigt und schön visualisiert werden kann. Da sich die volle Fehlermatrix nur schwer darstellen lässt, konzentrieren wir uns auf ausgewählte Wortarten, z.B. Substantive, Vollverben, Adjektive und Adverbien."
   ]
  },
  {
   "cell_type": "code",
   "execution_count": 13,
   "id": "b83ab3eb-1d3f-4e50-aa11-4c360e471380",
   "metadata": {},
   "outputs": [
    {
     "data": {
      "image/png": "[encoded data removed]",
      "text/plain": [
       "<Figure size 640x480 with 2 Axes>"
      ]
     },
     "metadata": {},
     "output_type": "display_data"
    }
   ],
   "source": [
    "focus_tags = ('ADJA', 'ADJD', 'ADV', 'NE', 'NN', 'VVFIN', 'VVINF', 'VVIMP')\n",
    "cm = confusion_matrix(test.pos, predicted, labels=focus_tags)\n",
    "ConfusionMatrixDisplay(cm, display_labels=focus_tags).plot(cmap='OrRd');"
   ]
  },
  {
   "cell_type": "markdown",
   "id": "6e51523a-018a-4526-a9fb-d87f33c87cca",
   "metadata": {},
   "source": [
    "Auffallend ist eine Spalte, mit zahlreichen Fehlern, bei denen das Lernverfahren `NN` vorhergesagt hat. Hier handelt es sich mutmaßlich zu einem großen Teil um unbekannte Wörter. Im nächsten Schritt gilt es nun also, Wortarten für solche unbekannten Wörter zu erraten."
   ]
  },
  {
   "cell_type": "markdown",
   "id": "f01876d2-80e8-4d94-a23d-701dbdcd42b1",
   "metadata": {},
   "source": [
    "### Präfix- und Suffixmerkmale"
   ]
  },
  {
   "cell_type": "markdown",
   "id": "d20a688a-a0be-410d-9989-b6fecdfcab31",
   "metadata": {},
   "source": [
    "Die Wortart eines unbekannten Wortes lässt sich am ehesten aus der Endung (Suffix der letzten $k$ Zeichen, z.B. _-bares_) erraten, sowie teilweise auch aus dem Wortanfang (z.B. _ge-_). Wie viele Zeichen $k$ zu berücksichtigen sind, kann nur empirisch durch Experimente mit verschiedenen Parametereinstellungen ermittelt werden.\n",
    "\n",
    "Wir könnten nun zusätzliche Spalten mit den jeweiligen Präfixen und Suffixen in unseren Datentabellen ergänzen (evtl. auch zu Kleinschreibung normalisiert) und darauf einen `OneHotEncoder` anwenden."
   ]
  },
  {
   "cell_type": "code",
   "execution_count": 14,
   "id": "18f2d383-75ea-474e-8cb5-69cf3b302443",
   "metadata": {},
   "outputs": [
    {
     "data": {
      "text/html": [
       "<div>\n",
       "<style scoped>\n",
       "    .dataframe tbody tr th:only-of-type {\n",
       "        vertical-align: middle;\n",
       "    }\n",
       "\n",
       "    .dataframe tbody tr th {\n",
       "        vertical-align: top;\n",
       "    }\n",
       "\n",
       "    .dataframe thead th {\n",
       "        text-align: right;\n",
       "    }\n",
       "</style>\n",
       "<table border=\"1\" class=\"dataframe\">\n",
       "  <thead>\n",
       "    <tr style=\"text-align: right;\">\n",
       "      <th></th>\n",
       "      <th>sent</th>\n",
       "      <th>tok</th>\n",
       "      <th>word</th>\n",
       "      <th>pos</th>\n",
       "      <th>suff4</th>\n",
       "    </tr>\n",
       "  </thead>\n",
       "  <tbody>\n",
       "    <tr>\n",
       "      <th>0</th>\n",
       "      <td>25001</td>\n",
       "      <td>1</td>\n",
       "      <td>Der</td>\n",
       "      <td>ART</td>\n",
       "      <td>der</td>\n",
       "    </tr>\n",
       "    <tr>\n",
       "      <th>1</th>\n",
       "      <td>25001</td>\n",
       "      <td>2</td>\n",
       "      <td>Vertreter</td>\n",
       "      <td>NN</td>\n",
       "      <td>eter</td>\n",
       "    </tr>\n",
       "    <tr>\n",
       "      <th>2</th>\n",
       "      <td>25001</td>\n",
       "      <td>3</td>\n",
       "      <td>der</td>\n",
       "      <td>ART</td>\n",
       "      <td>der</td>\n",
       "    </tr>\n",
       "    <tr>\n",
       "      <th>3</th>\n",
       "      <td>25001</td>\n",
       "      <td>4</td>\n",
       "      <td>Brandt-Witwe</td>\n",
       "      <td>NN</td>\n",
       "      <td>itwe</td>\n",
       "    </tr>\n",
       "    <tr>\n",
       "      <th>4</th>\n",
       "      <td>25001</td>\n",
       "      <td>5</td>\n",
       "      <td>sah</td>\n",
       "      <td>VVFIN</td>\n",
       "      <td>sah</td>\n",
       "    </tr>\n",
       "    <tr>\n",
       "      <th>...</th>\n",
       "      <td>...</td>\n",
       "      <td>...</td>\n",
       "      <td>...</td>\n",
       "      <td>...</td>\n",
       "      <td>...</td>\n",
       "    </tr>\n",
       "    <tr>\n",
       "      <th>222698</th>\n",
       "      <td>37498</td>\n",
       "      <td>2</td>\n",
       "      <td>steigen</td>\n",
       "      <td>VVFIN</td>\n",
       "      <td>igen</td>\n",
       "    </tr>\n",
       "    <tr>\n",
       "      <th>222699</th>\n",
       "      <td>37498</td>\n",
       "      <td>3</td>\n",
       "      <td>/</td>\n",
       "      <td>$(</td>\n",
       "      <td>/</td>\n",
       "    </tr>\n",
       "    <tr>\n",
       "      <th>222700</th>\n",
       "      <td>37499</td>\n",
       "      <td>1</td>\n",
       "      <td>Weniger</td>\n",
       "      <td>PIAT</td>\n",
       "      <td>iger</td>\n",
       "    </tr>\n",
       "    <tr>\n",
       "      <th>222701</th>\n",
       "      <td>37499</td>\n",
       "      <td>2</td>\n",
       "      <td>Stellen</td>\n",
       "      <td>NN</td>\n",
       "      <td>llen</td>\n",
       "    </tr>\n",
       "    <tr>\n",
       "      <th>222702</th>\n",
       "      <td>37500</td>\n",
       "      <td>1</td>\n",
       "      <td>rb</td>\n",
       "      <td>XY</td>\n",
       "      <td>rb</td>\n",
       "    </tr>\n",
       "  </tbody>\n",
       "</table>\n",
       "<p>222703 rows × 5 columns</p>\n",
       "</div>"
      ],
      "text/plain": [
       "         sent  tok          word    pos suff4\n",
       "0       25001    1           Der    ART   der\n",
       "1       25001    2     Vertreter     NN  eter\n",
       "2       25001    3           der    ART   der\n",
       "3       25001    4  Brandt-Witwe     NN  itwe\n",
       "4       25001    5           sah  VVFIN   sah\n",
       "...       ...  ...           ...    ...   ...\n",
       "222698  37498    2       steigen  VVFIN  igen\n",
       "222699  37498    3             /     $(     /\n",
       "222700  37499    1       Weniger   PIAT  iger\n",
       "222701  37499    2       Stellen     NN  llen\n",
       "222702  37500    1            rb     XY    rb\n",
       "\n",
       "[222703 rows x 5 columns]"
      ]
     },
     "execution_count": 14,
     "metadata": {},
     "output_type": "execute_result"
    }
   ],
   "source": [
    "tmp = test.copy()\n",
    "tmp['suff4'] = tmp.word.str.lower().str[-4:]\n",
    "tmp"
   ]
  },
  {
   "cell_type": "markdown",
   "id": "51a438b2-5812-4819-a88d-ca2ad5cb2436",
   "metadata": {},
   "source": [
    "Hier nützen wir stattdessen wieder den `CountVectorizer` mit einer geeigneten Tokenizer-Funktion (die alle gewünschten Suffixe und Präfixe zurückliefert) und der voreingestellten Normalisierung zu Kleinschreibung. Wichtig ist, dass Präfix und Suffix der gleichen Länge unterschieden werden!"
   ]
  },
  {
   "cell_type": "code",
   "execution_count": 15,
   "id": "01acbd71-c063-4cd2-9720-f1c12a415b4c",
   "metadata": {},
   "outputs": [
    {
     "name": "stdout",
     "output_type": "stream",
     "text": [
      "['-er', 'De-']\n",
      "['-er', '-ter', '-eter', 'Ve-', 'Ver-']\n"
     ]
    }
   ],
   "source": [
    "def get_prefix_suffix(word):\n",
    "    l = len(word)\n",
    "    res = []\n",
    "    for k in range(2, 5):\n",
    "        if l > k:\n",
    "            res.append(\"-\" + word[-k:])\n",
    "    for k in range(2, 4):\n",
    "        if l > k:\n",
    "            res.append(word[:k] + \"-\")\n",
    "    return(res)\n",
    "\n",
    "print(get_prefix_suffix(test.word[0]))\n",
    "print(get_prefix_suffix(test.word[1]))"
   ]
  },
  {
   "cell_type": "markdown",
   "id": "c847e92b-d31a-497a-87ce-88f31f6c71a9",
   "metadata": {},
   "source": [
    "Sinnvoll sind vor allem Affixe, die häufig genug vorkommen, um zuverlässige Informationen zu liefern. Wir zeigen hier zunächst, welche Affixe bei $f\\ge 500$ verwendet werden. Für die tatsächliche Merkmalsextraktion verwenden wir dann einen weitaus niedrigeren Schwellenwert (der auch von der Länge $k$ des Affix abhängig gemacht werden könnte)."
   ]
  },
  {
   "cell_type": "code",
   "execution_count": 16,
   "id": "50db7941-dec8-4083-9695-7e4635d28b69",
   "metadata": {},
   "outputs": [
    {
     "name": "stderr",
     "output_type": "stream",
     "text": [
      "/opt/anaconda3/envs/Teaching/lib/python3.9/site-packages/sklearn/feature_extraction/text.py:524: UserWarning: The parameter 'token_pattern' will not be used since 'tokenizer' is not None'\n",
      "  warnings.warn(\n"
     ]
    },
    {
     "name": "stdout",
     "output_type": "stream",
     "text": [
      "-00 -abe -aben -ach -acht -aft -ag -age -agen -agte -ahr -al -alen -an -and -ang -ann -ar -ark -as -at -aten -atte -au -aus -aß -be -ben -ber -bt -ch -che -chen -cher -cht -chte -ck -de -den -der -dern -dt -dung -eben -eder -ef -egen -ehen -ehr -eht -ei -eich -eien -eil -ein -eine -eit -el -elt -em -en -end -ende -ene -enen -enn -ens -ent -er -ere -eren -ern -ers -ert -erte -es -ese -et -ete -eten -etzt -fe -fen -ft -ge -gen -ger -gt -gte -gung -haft -he -heit -hen -her -hl -hmen -hr -hre -hren -hrer -ht -hte -hten -ich -iche -icht -ie -ien -ier -iert -iese -ig -ige -igen -iger -igt -ik -il -in -ind -ine -inem -inen -iner -ines -ion -ir -ird -is -isch -ise -it -iten -itik -keit -ken -kt -land -ld -le -len -ler -lich -ll -lle -llen -ls -lt -lte -lten -lung -mber -me -men -mer -mmen -mt -nd -nde -nden -nder -ne -nem -nen -ner -nes -ng -ngen -nn -nnen -ns -nt -nte -nten -nter -nung -nz -och -oll -om -on -onen -or -rch -rd -rde -rden -re -ren -rer -rk -rn -rs -rt -rte -rten -rung -sch -sche -se -sen -ser -sse -ssen -st -ste -sten -ster -tag -te -ten -ter -tet -tig -tik -tion -ts -tt -tte -tten -tung -tz -tzt -uch -uen -uf -um -un -und -ung -ur -urch -urde -us -ut -ute -uß -ze -zen -zent -zt -ßen -ßt -ür 19- 199- ab- abe- abg- al- all- an- and- ang- ar- arb- au- auc- auf- aus- ba- be- beg- bei- ber- bes- bet- bi- bl- bo- br- bu- bun- ch- da- dam- dar- de- den- deu- di- die- do- dr- du- dur- ei- ein- en- ent- er- ers- et- eu- eur- fa- fe- fi- fl- fo- for- fr- fra- fre- fü- ga- ge- geb- gef- geg- geh- gel- gem- gen- ger- ges- gew- gi- gl- gr- gro- ha- hab- hat- hau- he- her- hi- hin- ho- hä- ih- ihr- im- in- int- is- ja- jah- je- jed- ju- ka- kan- ke- kei- ki- kl- ko- kom- kon- kr- kri- ku- kö- kön- la- lan- le- li- lä- ma- mac- man- mar- me- meh- men- mi- mil- min- mit- mo- mon- mu- mü- na- nac- nat- ne- neu- ni- nic- no- noc- nov- nu- od- ode- pa- par- pe- po- pol- pr- pro- prä- ra- re- rec- reg- ri- ro- ru- sa- sag- sc- sch- se- sei- sel- si- sic- sin- so- sol- son- soz- sp- st- sta- ste- str- ta- te- tei- to- tr- um- un- unt- us- ve- ver- vi- vie- vo- vor- wa- wah- war- we- wei- wel- wen- wer- wi- wie- wil- wir- wo- wol- wor- wu- wur- wä- ze- zei- zu- zus- zw- zwe- üb- übe-\n"
     ]
    }
   ],
   "source": [
    "affix_vectorizer = CountVectorizer(tokenizer=get_prefix_suffix, min_df=500)\n",
    "affix_vectorizer.fit(train.word)\n",
    "print(\" \".join(affix_vectorizer.get_feature_names_out()))"
   ]
  },
  {
   "cell_type": "code",
   "execution_count": 17,
   "id": "0dc8a8e5-3565-4fa3-8dc9-172f289fc16a",
   "metadata": {},
   "outputs": [
    {
     "data": {
      "text/plain": [
       "(449285, 3807)"
      ]
     },
     "execution_count": 17,
     "metadata": {},
     "output_type": "execute_result"
    }
   ],
   "source": [
    "affix_vectorizer = CountVectorizer(tokenizer=get_prefix_suffix, min_df=20)\n",
    "X_affix = affix_vectorizer.fit_transform(train.word)\n",
    "testX_affix = affix_vectorizer.transform(test.word)\n",
    "X_affix.shape"
   ]
  },
  {
   "cell_type": "markdown",
   "id": "358d70b2-f8e2-4740-8277-bfce796e5a4d",
   "metadata": {},
   "source": [
    "Schließlich trainieren wir eine SVM mit der kombinierten Merkmalsmatrix."
   ]
  },
  {
   "cell_type": "code",
   "execution_count": 18,
   "id": "b11bd8e0-1070-441e-a882-83431ab45a50",
   "metadata": {},
   "outputs": [],
   "source": [
    "X = sp.sparse.hstack([X_wf, X_affix])\n",
    "testX = sp.sparse.hstack([testX_wf, testX_affix])"
   ]
  },
  {
   "cell_type": "code",
   "execution_count": 19,
   "id": "4569271c-4aa0-4e8d-8b4f-246149fd0b92",
   "metadata": {},
   "outputs": [
    {
     "name": "stdout",
     "output_type": "stream",
     "text": [
      "CPU times: user 57 s, sys: 98.9 ms, total: 57.1 s\n",
      "Wall time: 57.2 s\n",
      "CPU times: user 178 ms, sys: 14.7 ms, total: 192 ms\n",
      "Wall time: 192 ms\n"
     ]
    },
    {
     "data": {
      "text/plain": [
       "0.908663107367211"
      ]
     },
     "execution_count": 19,
     "metadata": {},
     "output_type": "execute_result"
    }
   ],
   "source": [
    "clf = LinearSVC()\n",
    "%time clf.fit(X, train.pos)\n",
    "%time clf.score(testX, test.pos)"
   ]
  },
  {
   "cell_type": "markdown",
   "id": "826af57f-4d6d-4a54-8288-ef913ed50c89",
   "metadata": {},
   "source": [
    "### Weitere Merkmale"
   ]
  },
  {
   "cell_type": "markdown",
   "id": "98df94dc-79ab-4bdf-a8d7-fb3dea817bff",
   "metadata": {},
   "source": [
    "> **Aufgabe:** Extrahieren Sie spezifische Merkmale wie Groß-/Kleinschreibung, „Token besteht nur aus Ziffern“, „Token enthält keine Buchstaben“, „Bindestrich am Wortende“, Satzanfang, usw. als dicht besetzte Binärmatrix.  Denken Sie sich auch weitere Merkmale aus, die für die Wortartenerkennung nützlich sein könnten.  Fügen Sie die zusätzlichen Merkmale dann an die bisherige Merkmalsmatrix an.  Können Sie damit die Genauigkeit des Unigramm-Taggers verbessern?  "
   ]
  },
  {
   "cell_type": "markdown",
   "id": "587bcd89-182a-401e-aa66-c3cd1495a638",
   "metadata": {},
   "source": [
    "Solche spezifischen Merkmale können am besten mit einer eigenen Python-Funktion extrahiert werden. Dabei handelt es sich überwiegend um binäre Merkmale, z.B.: Groß-/Kleinschreibung, nur Ziffern, enthält keine Buchstaben (oder Ziffern), nur Großbuchstaben (oft eine Abkürzung), Token am Satzanfang (bzw. Satzende), Bindestrich am Wortende (Hinweis auf `TRUNC`). Mit solchem _feature engineering_ kann gezielt Information in das Lernverfahren eingebracht werden, die nach unserem linguistischen Verständnis relevant sein dürfte."
   ]
  },
  {
   "cell_type": "markdown",
   "id": "49508100-9fc2-4fc0-9a6c-ee0174d1737b",
   "metadata": {},
   "source": [
    "Wir extrahieren alle Merkmale als (dicht besetzte) $\\{0, 1\\}$-Matrix. Alternativ könnten wir auch jeweils eine Liste aller vorliegenden Merkmale erstellen und mit einem CountVectorizer übersetzen.  Unsere Lösung hat den Vorteil, dass sie nicht erst „trainiert“ werden muss, da die Merkmale schon im Voraus feststehen.  Wir beschränken uns hier auf Merkmale, die sich leicht identifizieren lassen."
   ]
  },
  {
   "cell_type": "code",
   "execution_count": 20,
   "id": "a2016d0e-f818-41f8-8d2b-8e381ecd09d3",
   "metadata": {},
   "outputs": [
    {
     "data": {
      "text/html": [
       "<div>\n",
       "<style scoped>\n",
       "    .dataframe tbody tr th:only-of-type {\n",
       "        vertical-align: middle;\n",
       "    }\n",
       "\n",
       "    .dataframe tbody tr th {\n",
       "        vertical-align: top;\n",
       "    }\n",
       "\n",
       "    .dataframe thead th {\n",
       "        text-align: right;\n",
       "    }\n",
       "</style>\n",
       "<table border=\"1\" class=\"dataframe\">\n",
       "  <thead>\n",
       "    <tr style=\"text-align: right;\">\n",
       "      <th></th>\n",
       "      <th>word</th>\n",
       "      <th>upper</th>\n",
       "      <th>allcaps</th>\n",
       "      <th>digits</th>\n",
       "      <th>noalpha</th>\n",
       "      <th>noalnum</th>\n",
       "      <th>atstart</th>\n",
       "      <th>trunc</th>\n",
       "      <th>long</th>\n",
       "    </tr>\n",
       "  </thead>\n",
       "  <tbody>\n",
       "    <tr>\n",
       "      <th>6355</th>\n",
       "      <td>Fahning</td>\n",
       "      <td>True</td>\n",
       "      <td>False</td>\n",
       "      <td>False</td>\n",
       "      <td>False</td>\n",
       "      <td>False</td>\n",
       "      <td>True</td>\n",
       "      <td>False</td>\n",
       "      <td>False</td>\n",
       "    </tr>\n",
       "    <tr>\n",
       "      <th>6356</th>\n",
       "      <td>möchte</td>\n",
       "      <td>False</td>\n",
       "      <td>False</td>\n",
       "      <td>False</td>\n",
       "      <td>False</td>\n",
       "      <td>False</td>\n",
       "      <td>False</td>\n",
       "      <td>False</td>\n",
       "      <td>False</td>\n",
       "    </tr>\n",
       "    <tr>\n",
       "      <th>6357</th>\n",
       "      <td>zusätzlich</td>\n",
       "      <td>False</td>\n",
       "      <td>False</td>\n",
       "      <td>False</td>\n",
       "      <td>False</td>\n",
       "      <td>False</td>\n",
       "      <td>False</td>\n",
       "      <td>False</td>\n",
       "      <td>False</td>\n",
       "    </tr>\n",
       "    <tr>\n",
       "      <th>6358</th>\n",
       "      <td>den</td>\n",
       "      <td>False</td>\n",
       "      <td>False</td>\n",
       "      <td>False</td>\n",
       "      <td>False</td>\n",
       "      <td>False</td>\n",
       "      <td>False</td>\n",
       "      <td>False</td>\n",
       "      <td>False</td>\n",
       "    </tr>\n",
       "    <tr>\n",
       "      <th>6359</th>\n",
       "      <td>Platz</td>\n",
       "      <td>True</td>\n",
       "      <td>False</td>\n",
       "      <td>False</td>\n",
       "      <td>False</td>\n",
       "      <td>False</td>\n",
       "      <td>False</td>\n",
       "      <td>False</td>\n",
       "      <td>False</td>\n",
       "    </tr>\n",
       "    <tr>\n",
       "      <th>6360</th>\n",
       "      <td>über</td>\n",
       "      <td>False</td>\n",
       "      <td>False</td>\n",
       "      <td>False</td>\n",
       "      <td>False</td>\n",
       "      <td>False</td>\n",
       "      <td>False</td>\n",
       "      <td>False</td>\n",
       "      <td>False</td>\n",
       "    </tr>\n",
       "    <tr>\n",
       "      <th>6361</th>\n",
       "      <td>Verkehrsflächen</td>\n",
       "      <td>True</td>\n",
       "      <td>False</td>\n",
       "      <td>False</td>\n",
       "      <td>False</td>\n",
       "      <td>False</td>\n",
       "      <td>False</td>\n",
       "      <td>False</td>\n",
       "      <td>True</td>\n",
       "    </tr>\n",
       "    <tr>\n",
       "      <th>6362</th>\n",
       "      <td>für</td>\n",
       "      <td>False</td>\n",
       "      <td>False</td>\n",
       "      <td>False</td>\n",
       "      <td>False</td>\n",
       "      <td>False</td>\n",
       "      <td>False</td>\n",
       "      <td>False</td>\n",
       "      <td>False</td>\n",
       "    </tr>\n",
       "    <tr>\n",
       "      <th>6363</th>\n",
       "      <td>Behausungen</td>\n",
       "      <td>True</td>\n",
       "      <td>False</td>\n",
       "      <td>False</td>\n",
       "      <td>False</td>\n",
       "      <td>False</td>\n",
       "      <td>False</td>\n",
       "      <td>False</td>\n",
       "      <td>False</td>\n",
       "    </tr>\n",
       "    <tr>\n",
       "      <th>6364</th>\n",
       "      <td>nutzen</td>\n",
       "      <td>False</td>\n",
       "      <td>False</td>\n",
       "      <td>False</td>\n",
       "      <td>False</td>\n",
       "      <td>False</td>\n",
       "      <td>False</td>\n",
       "      <td>False</td>\n",
       "      <td>False</td>\n",
       "    </tr>\n",
       "    <tr>\n",
       "      <th>6365</th>\n",
       "      <td>-</td>\n",
       "      <td>False</td>\n",
       "      <td>False</td>\n",
       "      <td>False</td>\n",
       "      <td>True</td>\n",
       "      <td>True</td>\n",
       "      <td>False</td>\n",
       "      <td>True</td>\n",
       "      <td>False</td>\n",
       "    </tr>\n",
       "    <tr>\n",
       "      <th>6366</th>\n",
       "      <td>und</td>\n",
       "      <td>False</td>\n",
       "      <td>False</td>\n",
       "      <td>False</td>\n",
       "      <td>False</td>\n",
       "      <td>False</td>\n",
       "      <td>False</td>\n",
       "      <td>False</td>\n",
       "      <td>False</td>\n",
       "    </tr>\n",
       "    <tr>\n",
       "      <th>6367</th>\n",
       "      <td>etwa</td>\n",
       "      <td>False</td>\n",
       "      <td>False</td>\n",
       "      <td>False</td>\n",
       "      <td>False</td>\n",
       "      <td>False</td>\n",
       "      <td>False</td>\n",
       "      <td>False</td>\n",
       "      <td>False</td>\n",
       "    </tr>\n",
       "    <tr>\n",
       "      <th>6368</th>\n",
       "      <td>9000</td>\n",
       "      <td>False</td>\n",
       "      <td>False</td>\n",
       "      <td>True</td>\n",
       "      <td>True</td>\n",
       "      <td>False</td>\n",
       "      <td>False</td>\n",
       "      <td>False</td>\n",
       "      <td>False</td>\n",
       "    </tr>\n",
       "    <tr>\n",
       "      <th>6369</th>\n",
       "      <td>nahe</td>\n",
       "      <td>False</td>\n",
       "      <td>False</td>\n",
       "      <td>False</td>\n",
       "      <td>False</td>\n",
       "      <td>False</td>\n",
       "      <td>False</td>\n",
       "      <td>False</td>\n",
       "      <td>False</td>\n",
       "    </tr>\n",
       "    <tr>\n",
       "      <th>6370</th>\n",
       "      <td>an</td>\n",
       "      <td>False</td>\n",
       "      <td>False</td>\n",
       "      <td>False</td>\n",
       "      <td>False</td>\n",
       "      <td>False</td>\n",
       "      <td>False</td>\n",
       "      <td>False</td>\n",
       "      <td>False</td>\n",
       "    </tr>\n",
       "    <tr>\n",
       "      <th>6371</th>\n",
       "      <td>Bahn-</td>\n",
       "      <td>True</td>\n",
       "      <td>False</td>\n",
       "      <td>False</td>\n",
       "      <td>False</td>\n",
       "      <td>False</td>\n",
       "      <td>False</td>\n",
       "      <td>True</td>\n",
       "      <td>False</td>\n",
       "    </tr>\n",
       "    <tr>\n",
       "      <th>6372</th>\n",
       "      <td>und</td>\n",
       "      <td>False</td>\n",
       "      <td>False</td>\n",
       "      <td>False</td>\n",
       "      <td>False</td>\n",
       "      <td>False</td>\n",
       "      <td>False</td>\n",
       "      <td>False</td>\n",
       "      <td>False</td>\n",
       "    </tr>\n",
       "    <tr>\n",
       "      <th>6373</th>\n",
       "      <td>Busstationen</td>\n",
       "      <td>True</td>\n",
       "      <td>False</td>\n",
       "      <td>False</td>\n",
       "      <td>False</td>\n",
       "      <td>False</td>\n",
       "      <td>False</td>\n",
       "      <td>False</td>\n",
       "      <td>False</td>\n",
       "    </tr>\n",
       "    <tr>\n",
       "      <th>6374</th>\n",
       "      <td>gelegene</td>\n",
       "      <td>False</td>\n",
       "      <td>False</td>\n",
       "      <td>False</td>\n",
       "      <td>False</td>\n",
       "      <td>False</td>\n",
       "      <td>False</td>\n",
       "      <td>False</td>\n",
       "      <td>False</td>\n",
       "    </tr>\n",
       "    <tr>\n",
       "      <th>6375</th>\n",
       "      <td>Kleingärten</td>\n",
       "      <td>True</td>\n",
       "      <td>False</td>\n",
       "      <td>False</td>\n",
       "      <td>False</td>\n",
       "      <td>False</td>\n",
       "      <td>False</td>\n",
       "      <td>False</td>\n",
       "      <td>False</td>\n",
       "    </tr>\n",
       "    <tr>\n",
       "      <th>6376</th>\n",
       "      <td>.</td>\n",
       "      <td>False</td>\n",
       "      <td>False</td>\n",
       "      <td>False</td>\n",
       "      <td>True</td>\n",
       "      <td>True</td>\n",
       "      <td>False</td>\n",
       "      <td>False</td>\n",
       "      <td>False</td>\n",
       "    </tr>\n",
       "  </tbody>\n",
       "</table>\n",
       "</div>"
      ],
      "text/plain": [
       "                 word  upper  allcaps  digits  noalpha  noalnum  atstart  \\\n",
       "6355          Fahning   True    False   False    False    False     True   \n",
       "6356           möchte  False    False   False    False    False    False   \n",
       "6357       zusätzlich  False    False   False    False    False    False   \n",
       "6358              den  False    False   False    False    False    False   \n",
       "6359            Platz   True    False   False    False    False    False   \n",
       "6360             über  False    False   False    False    False    False   \n",
       "6361  Verkehrsflächen   True    False   False    False    False    False   \n",
       "6362              für  False    False   False    False    False    False   \n",
       "6363      Behausungen   True    False   False    False    False    False   \n",
       "6364           nutzen  False    False   False    False    False    False   \n",
       "6365                -  False    False   False     True     True    False   \n",
       "6366              und  False    False   False    False    False    False   \n",
       "6367             etwa  False    False   False    False    False    False   \n",
       "6368             9000  False    False    True     True    False    False   \n",
       "6369             nahe  False    False   False    False    False    False   \n",
       "6370               an  False    False   False    False    False    False   \n",
       "6371            Bahn-   True    False   False    False    False    False   \n",
       "6372              und  False    False   False    False    False    False   \n",
       "6373     Busstationen   True    False   False    False    False    False   \n",
       "6374         gelegene  False    False   False    False    False    False   \n",
       "6375      Kleingärten   True    False   False    False    False    False   \n",
       "6376                .  False    False   False     True     True    False   \n",
       "\n",
       "      trunc   long  \n",
       "6355  False  False  \n",
       "6356  False  False  \n",
       "6357  False  False  \n",
       "6358  False  False  \n",
       "6359  False  False  \n",
       "6360  False  False  \n",
       "6361  False   True  \n",
       "6362  False  False  \n",
       "6363  False  False  \n",
       "6364  False  False  \n",
       "6365   True  False  \n",
       "6366  False  False  \n",
       "6367  False  False  \n",
       "6368  False  False  \n",
       "6369  False  False  \n",
       "6370  False  False  \n",
       "6371   True  False  \n",
       "6372  False  False  \n",
       "6373  False  False  \n",
       "6374  False  False  \n",
       "6375  False  False  \n",
       "6376  False  False  "
      ]
     },
     "execution_count": 20,
     "metadata": {},
     "output_type": "execute_result"
    }
   ],
   "source": [
    "def get_other_features(df, test=False):\n",
    "    res = pd.DataFrame({\n",
    "        'word': df.word,\n",
    "        'upper': df.word.str.match(r'[A-ZÄÖÜ]'),\n",
    "        'allcaps': df.word.str.fullmatch(r'[A-ZÄÖÜ]+'),\n",
    "        'digits': df.word.str.fullmatch(r'-?[0-9][0-9.,]*'),\n",
    "        'noalpha': ~df.word.str.contains(r'[a-zäöü]', flags=re.IGNORECASE),\n",
    "        'noalnum': ~df.word.str.contains(r'[0-9a-zäöü]', flags=re.IGNORECASE),\n",
    "        'atstart': df.tok == 1,\n",
    "        'trunc': df.word.str.endswith('-'),\n",
    "        'long': df.word.str.len() >= 15,\n",
    "    })\n",
    "    if test:\n",
    "        return res\n",
    "    else:\n",
    "        return res.iloc[:, 1:].to_numpy(dtype=np.float64)\n",
    "\n",
    "get_other_features(train[6355:6377], test=True)"
   ]
  },
  {
   "cell_type": "markdown",
   "id": "ccfe6216-c381-4b17-b2ac-9e6f0602a4ac",
   "metadata": {},
   "source": [
    "Nun können wir unsere Trainings- und Testdaten ergänzen …"
   ]
  },
  {
   "cell_type": "code",
   "execution_count": 21,
   "id": "f50e56f0-3560-4c52-8b74-2f148affa713",
   "metadata": {},
   "outputs": [],
   "source": [
    "X_other = get_other_features(train)\n",
    "X = sp.sparse.hstack([X_wf, X_affix, X_other])\n",
    "\n",
    "testX_other = get_other_features(test)\n",
    "testX = sp.sparse.hstack([testX_wf, testX_affix, testX_other])"
   ]
  },
  {
   "cell_type": "markdown",
   "id": "6fad2ab5-0749-4053-b7c3-cb8716934cf4",
   "metadata": {},
   "source": [
    "… und unsere SVM erneut trainiern und evaluieren."
   ]
  },
  {
   "cell_type": "code",
   "execution_count": 22,
   "id": "bd44e3f7-cafb-416c-876e-510d5f4008f8",
   "metadata": {},
   "outputs": [
    {
     "name": "stdout",
     "output_type": "stream",
     "text": [
      "CPU times: user 45.4 s, sys: 95.9 ms, total: 45.5 s\n",
      "Wall time: 45.5 s\n",
      "CPU times: user 176 ms, sys: 17.1 ms, total: 193 ms\n",
      "Wall time: 193 ms\n"
     ]
    },
    {
     "data": {
      "text/plain": [
       "0.926022550212615"
      ]
     },
     "execution_count": 22,
     "metadata": {},
     "output_type": "execute_result"
    }
   ],
   "source": [
    "clf = LinearSVC()\n",
    "%time clf.fit(X, train.pos)\n",
    "%time clf.score(testX, test.pos)"
   ]
  },
  {
   "cell_type": "markdown",
   "id": "7dd7ed41-a842-4a59-b50c-bd6106d1586d",
   "metadata": {},
   "source": [
    "Durch die zusätzlichen Merkmale gewinnen wir tatsächlich einige Prozentpunkte Genauigkeit – und das mit recht wenig Arbeitsaufwand."
   ]
  },
  {
   "cell_type": "markdown",
   "id": "a0935fb3-bb39-48fc-8c76-339fd2fb21d0",
   "metadata": {},
   "source": [
    "> **Frage:** Können Sie erklären, warum einige dieser Merkmale (z.B. die Markierung für den Satzanfang) von einem linearen Klassifikator (wie der hier verwendeten `LinearSVC`) nicht optimal genutzt werden? Wie könnte man angesichts dieser Erkenntnis die Ergebnisse möglicherweise noch etwas verbessern?"
   ]
  },
  {
   "cell_type": "markdown",
   "id": "aca8bf74-aab0-4cc4-804c-ec8261720e6d",
   "metadata": {},
   "source": [
    "Information über den Satzanfang ist v.a. in Kombination mit anderen Merkmalen aussagekräftig, da insbesondere dort ein sonst kleingeschriebenes Wort (z.B. _ein_) mit großem Anfangsbuchstaben stehen kann (_Ein gutes Buch ist …_). Ein linearer Klassifikator kann solche Merkmalaskombinationen nicht ausnutzen, da jedes Merkmal lediglich ein individuelles Gewicht erhält. Ein polynomiale SVM (mit `degree=2`) könnte zwar Paare von Merkmalen berücksichtigen, ist aber für unseren großen und hochdimensionalen Trainingsdatensatz nicht effizient genug.\n",
    "\n",
    "Sinnvoll könnte es hier sein, am Satzanfang zusätzlich zur großgeschriebenen Wortform auch die kleingeschriebene Version zu den Merkmalen hinzuzufügen (in diesem Fall würde also ein _two-hot encoding_ entstehen).  Dieser Ansatz könnte noch verfeinert werden, z.B. wird die kleingeschrieben Version nur berücksichtigt wenn sie bereits im Vokabular enthalten ist (z.B. mit $f \\geq 5$) und/oder wenn die großgeschrieben Originalform ein OOV ist (damit hätten wir wieder ein _one-hot encoding_)."
   ]
  },
  {
   "cell_type": "markdown",
   "id": "6211a301-54fc-451f-9593-3a8888232531",
   "metadata": {},
   "source": [
    "### Optimierung"
   ]
  },
  {
   "cell_type": "markdown",
   "id": "b8ebc1f1-96f8-4982-b702-752c13b6a4e9",
   "metadata": {
    "tags": []
   },
   "source": [
    "> **Aufgabe:** Experimentieren Sie mit den Metaparametern des Lernverfahrens und der Merkmalsextraktion (z.B. OOV-Schwellenwert für Wortformen, maximale Länge der Präfixe und Suffixe, hinzufügen von weiteren spezifischen Merkmalen. Testen Sie auch andere Lernverfahren als SVM: können diese schneller trainiert werden? Denken Sie, dass eine systematische Optimierung der Metaparameter (insb. der Regularisierungsstärke) sinnvoll ist?"
   ]
  },
  {
   "cell_type": "markdown",
   "id": "2e2af0a4-c185-45c7-8c8d-a5f25bb0da58",
   "metadata": {},
   "source": [
    "Vor einer Metaparameteroptimierung per Grid Search kann es hilfreich sein, durch Evaluation auf den Trainingsdaten zu überprüfen, ob die SVM bereits stark übertrainiert ist (d.h. zu hohe _variance_ aufweist) oder noch zu wenig lernen kann (d.h. sich durch starken _bias_ nicht gut an die Trainingsdaten anpassen kann). Hier liegt letztere Fall vor: auch auf den Trainingsdaten ist die Genauigkeit noch sehr schlecht und wir müssen weitere Merkmale hinzufügen, um eine deutliche Verbesserung zu erreichen!"
   ]
  },
  {
   "cell_type": "code",
   "execution_count": 23,
   "id": "3b13c853-18fa-4bfd-8938-8d4a2aa99ae5",
   "metadata": {
    "tags": []
   },
   "outputs": [
    {
     "data": {
      "text/plain": [
       "0.9402406045160644"
      ]
     },
     "execution_count": 23,
     "metadata": {},
     "output_type": "execute_result"
    }
   ],
   "source": [
    "clf.score(X, train.pos)"
   ]
  },
  {
   "cell_type": "markdown",
   "id": "080a421b-415b-4ffa-a201-07b2f43a4393",
   "metadata": {},
   "source": [
    "Für Experimente mit Parametern der Merkmalsextraktion (z.B. OOV-Schwellenwert, Länge der Präfixe und Suffixe, etc.) wäre es sehr vorteilhaft, die komplette Erstellung der Merkmalsmatrix in eine Funktion zu kapseln, die dann mit verschiedenen Parametern aufgerufen werden kann. Ansonsten muss bei jedem Durchgang die kombinierte Merkmalsmatrix sowohl für die Trainings- als auch die Testdaten neu zusammengefügt werden.\n",
    "\n",
    "Wir testen hier exemplarisch ein bag-of-words-Modell mit Schwellenwert $f\\geq 2$, sowohl einzeln als auch in Kombination mit den anderen Merkmalen."
   ]
  },
  {
   "cell_type": "code",
   "execution_count": 24,
   "id": "a7d7edee-5a27-4838-9d2e-b385355d66cf",
   "metadata": {},
   "outputs": [
    {
     "data": {
      "text/plain": [
       "(449285, 22859)"
      ]
     },
     "execution_count": 24,
     "metadata": {},
     "output_type": "execute_result"
    }
   ],
   "source": [
    "wf2_vectorizer = OneHotEncoder(handle_unknown='infrequent_if_exist', min_frequency=2)\n",
    "X_wf2 = wf2_vectorizer.fit_transform([(x,) for x in train.word])\n",
    "testX_wf2 = wf2_vectorizer.transform([(x,) for x in test.word])\n",
    "X_wf2.shape"
   ]
  },
  {
   "cell_type": "code",
   "execution_count": 25,
   "id": "3596fbbe-c68b-4655-832d-d59d577c8c33",
   "metadata": {},
   "outputs": [
    {
     "data": {
      "text/plain": [
       "0.8849229691562305"
      ]
     },
     "execution_count": 25,
     "metadata": {},
     "output_type": "execute_result"
    }
   ],
   "source": [
    "clf = LinearSVC()\n",
    "clf.fit(X_wf2, train.pos)\n",
    "clf.score(testX_wf2, test.pos)"
   ]
  },
  {
   "cell_type": "code",
   "execution_count": 26,
   "id": "3ed7a9de-b0e6-40cf-a4ea-58e855d243a4",
   "metadata": {
    "tags": []
   },
   "outputs": [
    {
     "data": {
      "text/plain": [
       "0.931401911963467"
      ]
     },
     "execution_count": 26,
     "metadata": {},
     "output_type": "execute_result"
    }
   ],
   "source": [
    "X2 = sp.sparse.hstack([X_wf2, X_affix, X_other])\n",
    "testX2 = sp.sparse.hstack([testX_wf2, testX_affix, testX_other])\n",
    "clf = LinearSVC()\n",
    "clf.fit(X2, train.pos)\n",
    "clf.score(testX2, test.pos)"
   ]
  },
  {
   "cell_type": "markdown",
   "id": "42b6de3d-b700-4fd3-929d-541eed41b4f5",
   "metadata": {},
   "source": [
    "Tatsächlich können wir mit dem niedrigeren OOV-Schwellenwert eine kleine Verbesserung erzielen, auch in Kombination mit allen anderen Merkmalen."
   ]
  },
  {
   "cell_type": "markdown",
   "id": "173b955c-92a7-45ea-bdd4-af798bc8d9c6",
   "metadata": {},
   "source": [
    "Schließlich testen wir als alternatives Lernverfahren noch Stochastic Gradient Descent, das im Gegensatz zur SVM sehr leicht zu implementieren ist. Mit einer geeigneten Regularisierungsstärke (die hier tatsächlich ein „kritischer“ Parameter ist) erreichen wir fast genauso gute Ergebnisse wie mit der SVM, das Training dauert aber nur wenige Sekunden."
   ]
  },
  {
   "cell_type": "code",
   "execution_count": 27,
   "id": "6c2964ef-729b-4573-8c24-33c054ec0227",
   "metadata": {},
   "outputs": [
    {
     "name": "stdout",
     "output_type": "stream",
     "text": [
      "CPU times: user 16.5 s, sys: 171 ms, total: 16.6 s\n",
      "Wall time: 2.38 s\n"
     ]
    },
    {
     "data": {
      "text/plain": [
       "0.9236651504470079"
      ]
     },
     "execution_count": 27,
     "metadata": {},
     "output_type": "execute_result"
    }
   ],
   "source": [
    "%%time\n",
    "clf = SGDClassifier(alpha=1e-5, max_iter=5000, n_jobs=-1)\n",
    "clf.fit(X, train.pos)\n",
    "clf.score(testX, test.pos)"
   ]
  },
  {
   "cell_type": "markdown",
   "id": "81a97d77-b798-453e-afb9-2f5d4461273c",
   "metadata": {},
   "source": [
    "## Oberflächenkontext"
   ]
  },
  {
   "cell_type": "markdown",
   "id": "521c15c8-4ce6-4e70-9212-db9c01704dc4",
   "metadata": {
    "tags": []
   },
   "source": [
    "Zur kontextabhängigen Disambiguierung wollen wir nun auch die vorhergehenden und folgenden Token an jeder Stelle berücksichtigen. Dazu müssen wir satzweise vorgehen und entsprechendes _padding_ am Satzanfang und -ende hinzufügen (**Frage:** warum ist das unbedingt nötig?).\n",
    "\n",
    "Als Beispiel bearbeiten wir zunächst einen einzelnen Satz und definieren dann eine Funktion, die wir mit den Pandas-Methoden `groupy()` und `apply()` auf alle Sätze im Korpus anwenden."
   ]
  },
  {
   "cell_type": "code",
   "execution_count": 28,
   "id": "a29d38d5-f8ce-420a-9cb3-4dc3492ec9cc",
   "metadata": {},
   "outputs": [
    {
     "data": {
      "text/html": [
       "<div>\n",
       "<style scoped>\n",
       "    .dataframe tbody tr th:only-of-type {\n",
       "        vertical-align: middle;\n",
       "    }\n",
       "\n",
       "    .dataframe tbody tr th {\n",
       "        vertical-align: top;\n",
       "    }\n",
       "\n",
       "    .dataframe thead th {\n",
       "        text-align: right;\n",
       "    }\n",
       "</style>\n",
       "<table border=\"1\" class=\"dataframe\">\n",
       "  <thead>\n",
       "    <tr style=\"text-align: right;\">\n",
       "      <th></th>\n",
       "      <th>sent</th>\n",
       "      <th>tok</th>\n",
       "      <th>word</th>\n",
       "      <th>pos</th>\n",
       "    </tr>\n",
       "  </thead>\n",
       "  <tbody>\n",
       "    <tr>\n",
       "      <th>790</th>\n",
       "      <td>42</td>\n",
       "      <td>1</td>\n",
       "      <td>``</td>\n",
       "      <td>$(</td>\n",
       "    </tr>\n",
       "    <tr>\n",
       "      <th>791</th>\n",
       "      <td>42</td>\n",
       "      <td>2</td>\n",
       "      <td>Die</td>\n",
       "      <td>ART</td>\n",
       "    </tr>\n",
       "    <tr>\n",
       "      <th>792</th>\n",
       "      <td>42</td>\n",
       "      <td>3</td>\n",
       "      <td>Probleme</td>\n",
       "      <td>NN</td>\n",
       "    </tr>\n",
       "    <tr>\n",
       "      <th>793</th>\n",
       "      <td>42</td>\n",
       "      <td>4</td>\n",
       "      <td>unseres</td>\n",
       "      <td>PPOSAT</td>\n",
       "    </tr>\n",
       "    <tr>\n",
       "      <th>794</th>\n",
       "      <td>42</td>\n",
       "      <td>5</td>\n",
       "      <td>Landes</td>\n",
       "      <td>NN</td>\n",
       "    </tr>\n",
       "    <tr>\n",
       "      <th>795</th>\n",
       "      <td>42</td>\n",
       "      <td>6</td>\n",
       "      <td>sind</td>\n",
       "      <td>VAFIN</td>\n",
       "    </tr>\n",
       "    <tr>\n",
       "      <th>796</th>\n",
       "      <td>42</td>\n",
       "      <td>7</td>\n",
       "      <td>doch</td>\n",
       "      <td>ADV</td>\n",
       "    </tr>\n",
       "    <tr>\n",
       "      <th>797</th>\n",
       "      <td>42</td>\n",
       "      <td>8</td>\n",
       "      <td>weit</td>\n",
       "      <td>ADJD</td>\n",
       "    </tr>\n",
       "    <tr>\n",
       "      <th>798</th>\n",
       "      <td>42</td>\n",
       "      <td>9</td>\n",
       "      <td>größer</td>\n",
       "      <td>ADJD</td>\n",
       "    </tr>\n",
       "    <tr>\n",
       "      <th>799</th>\n",
       "      <td>42</td>\n",
       "      <td>10</td>\n",
       "      <td>als</td>\n",
       "      <td>KOKOM</td>\n",
       "    </tr>\n",
       "    <tr>\n",
       "      <th>800</th>\n",
       "      <td>42</td>\n",
       "      <td>11</td>\n",
       "      <td>die</td>\n",
       "      <td>PDS</td>\n",
       "    </tr>\n",
       "    <tr>\n",
       "      <th>801</th>\n",
       "      <td>42</td>\n",
       "      <td>12</td>\n",
       "      <td>eines</td>\n",
       "      <td>ART</td>\n",
       "    </tr>\n",
       "    <tr>\n",
       "      <th>802</th>\n",
       "      <td>42</td>\n",
       "      <td>13</td>\n",
       "      <td>Unternehmens</td>\n",
       "      <td>NN</td>\n",
       "    </tr>\n",
       "    <tr>\n",
       "      <th>803</th>\n",
       "      <td>42</td>\n",
       "      <td>14</td>\n",
       "      <td>''</td>\n",
       "      <td>$(</td>\n",
       "    </tr>\n",
       "    <tr>\n",
       "      <th>804</th>\n",
       "      <td>42</td>\n",
       "      <td>15</td>\n",
       "      <td>,</td>\n",
       "      <td>$,</td>\n",
       "    </tr>\n",
       "    <tr>\n",
       "      <th>805</th>\n",
       "      <td>42</td>\n",
       "      <td>16</td>\n",
       "      <td>meint</td>\n",
       "      <td>VVFIN</td>\n",
       "    </tr>\n",
       "    <tr>\n",
       "      <th>806</th>\n",
       "      <td>42</td>\n",
       "      <td>17</td>\n",
       "      <td>Rudy</td>\n",
       "      <td>NE</td>\n",
       "    </tr>\n",
       "    <tr>\n",
       "      <th>807</th>\n",
       "      <td>42</td>\n",
       "      <td>18</td>\n",
       "      <td>Oswald</td>\n",
       "      <td>NE</td>\n",
       "    </tr>\n",
       "    <tr>\n",
       "      <th>808</th>\n",
       "      <td>42</td>\n",
       "      <td>19</td>\n",
       "      <td>,</td>\n",
       "      <td>$,</td>\n",
       "    </tr>\n",
       "    <tr>\n",
       "      <th>809</th>\n",
       "      <td>42</td>\n",
       "      <td>20</td>\n",
       "      <td>Chefvolkswirt</td>\n",
       "      <td>NN</td>\n",
       "    </tr>\n",
       "    <tr>\n",
       "      <th>810</th>\n",
       "      <td>42</td>\n",
       "      <td>21</td>\n",
       "      <td>beim</td>\n",
       "      <td>APPRART</td>\n",
       "    </tr>\n",
       "    <tr>\n",
       "      <th>811</th>\n",
       "      <td>42</td>\n",
       "      <td>22</td>\n",
       "      <td>Gewerkschaftsbund</td>\n",
       "      <td>NN</td>\n",
       "    </tr>\n",
       "    <tr>\n",
       "      <th>812</th>\n",
       "      <td>42</td>\n",
       "      <td>23</td>\n",
       "      <td>AFL-CIO</td>\n",
       "      <td>NE</td>\n",
       "    </tr>\n",
       "    <tr>\n",
       "      <th>813</th>\n",
       "      <td>42</td>\n",
       "      <td>24</td>\n",
       "      <td>.</td>\n",
       "      <td>$.</td>\n",
       "    </tr>\n",
       "  </tbody>\n",
       "</table>\n",
       "</div>"
      ],
      "text/plain": [
       "     sent  tok               word      pos\n",
       "790    42    1                 ``       $(\n",
       "791    42    2                Die      ART\n",
       "792    42    3           Probleme       NN\n",
       "793    42    4            unseres   PPOSAT\n",
       "794    42    5             Landes       NN\n",
       "795    42    6               sind    VAFIN\n",
       "796    42    7               doch      ADV\n",
       "797    42    8               weit     ADJD\n",
       "798    42    9             größer     ADJD\n",
       "799    42   10                als    KOKOM\n",
       "800    42   11                die      PDS\n",
       "801    42   12              eines      ART\n",
       "802    42   13       Unternehmens       NN\n",
       "803    42   14                 ''       $(\n",
       "804    42   15                  ,       $,\n",
       "805    42   16              meint    VVFIN\n",
       "806    42   17               Rudy       NE\n",
       "807    42   18             Oswald       NE\n",
       "808    42   19                  ,       $,\n",
       "809    42   20      Chefvolkswirt       NN\n",
       "810    42   21               beim  APPRART\n",
       "811    42   22  Gewerkschaftsbund       NN\n",
       "812    42   23            AFL-CIO       NE\n",
       "813    42   24                  .       $."
      ]
     },
     "execution_count": 28,
     "metadata": {},
     "output_type": "execute_result"
    }
   ],
   "source": [
    "satz = train[train.sent == 42].copy()\n",
    "satz"
   ]
  },
  {
   "cell_type": "markdown",
   "id": "1810e197-cbd0-4167-9667-abf1e611ee22",
   "metadata": {},
   "source": [
    "Mit der Pandas-Methode `shift()` können wir die Spalten der Matrix um ein oder mehrere Token verschieben. Dabei müssen wir einen sinnvollen `fill_value` für das Padding angeben."
   ]
  },
  {
   "cell_type": "code",
   "execution_count": 29,
   "id": "0af7e091-84db-41a9-9e4a-6eab2b53e74e",
   "metadata": {},
   "outputs": [
    {
     "data": {
      "text/html": [
       "<div>\n",
       "<style scoped>\n",
       "    .dataframe tbody tr th:only-of-type {\n",
       "        vertical-align: middle;\n",
       "    }\n",
       "\n",
       "    .dataframe tbody tr th {\n",
       "        vertical-align: top;\n",
       "    }\n",
       "\n",
       "    .dataframe thead th {\n",
       "        text-align: right;\n",
       "    }\n",
       "</style>\n",
       "<table border=\"1\" class=\"dataframe\">\n",
       "  <thead>\n",
       "    <tr style=\"text-align: right;\">\n",
       "      <th></th>\n",
       "      <th>sent</th>\n",
       "      <th>tok</th>\n",
       "      <th>word</th>\n",
       "      <th>pos</th>\n",
       "      <th>L1</th>\n",
       "      <th>L2</th>\n",
       "      <th>R1</th>\n",
       "      <th>posL1</th>\n",
       "      <th>posL2</th>\n",
       "    </tr>\n",
       "  </thead>\n",
       "  <tbody>\n",
       "    <tr>\n",
       "      <th>790</th>\n",
       "      <td>42</td>\n",
       "      <td>1</td>\n",
       "      <td>``</td>\n",
       "      <td>$(</td>\n",
       "      <td></td>\n",
       "      <td></td>\n",
       "      <td>Die</td>\n",
       "      <td>*</td>\n",
       "      <td>*</td>\n",
       "    </tr>\n",
       "    <tr>\n",
       "      <th>791</th>\n",
       "      <td>42</td>\n",
       "      <td>2</td>\n",
       "      <td>Die</td>\n",
       "      <td>ART</td>\n",
       "      <td>``</td>\n",
       "      <td></td>\n",
       "      <td>Probleme</td>\n",
       "      <td>$(</td>\n",
       "      <td>*</td>\n",
       "    </tr>\n",
       "    <tr>\n",
       "      <th>792</th>\n",
       "      <td>42</td>\n",
       "      <td>3</td>\n",
       "      <td>Probleme</td>\n",
       "      <td>NN</td>\n",
       "      <td>Die</td>\n",
       "      <td>``</td>\n",
       "      <td>unseres</td>\n",
       "      <td>ART</td>\n",
       "      <td>$(</td>\n",
       "    </tr>\n",
       "    <tr>\n",
       "      <th>793</th>\n",
       "      <td>42</td>\n",
       "      <td>4</td>\n",
       "      <td>unseres</td>\n",
       "      <td>PPOSAT</td>\n",
       "      <td>Probleme</td>\n",
       "      <td>Die</td>\n",
       "      <td>Landes</td>\n",
       "      <td>NN</td>\n",
       "      <td>ART</td>\n",
       "    </tr>\n",
       "    <tr>\n",
       "      <th>794</th>\n",
       "      <td>42</td>\n",
       "      <td>5</td>\n",
       "      <td>Landes</td>\n",
       "      <td>NN</td>\n",
       "      <td>unseres</td>\n",
       "      <td>Probleme</td>\n",
       "      <td>sind</td>\n",
       "      <td>PPOSAT</td>\n",
       "      <td>NN</td>\n",
       "    </tr>\n",
       "    <tr>\n",
       "      <th>795</th>\n",
       "      <td>42</td>\n",
       "      <td>6</td>\n",
       "      <td>sind</td>\n",
       "      <td>VAFIN</td>\n",
       "      <td>Landes</td>\n",
       "      <td>unseres</td>\n",
       "      <td>doch</td>\n",
       "      <td>NN</td>\n",
       "      <td>PPOSAT</td>\n",
       "    </tr>\n",
       "    <tr>\n",
       "      <th>796</th>\n",
       "      <td>42</td>\n",
       "      <td>7</td>\n",
       "      <td>doch</td>\n",
       "      <td>ADV</td>\n",
       "      <td>sind</td>\n",
       "      <td>Landes</td>\n",
       "      <td>weit</td>\n",
       "      <td>VAFIN</td>\n",
       "      <td>NN</td>\n",
       "    </tr>\n",
       "    <tr>\n",
       "      <th>797</th>\n",
       "      <td>42</td>\n",
       "      <td>8</td>\n",
       "      <td>weit</td>\n",
       "      <td>ADJD</td>\n",
       "      <td>doch</td>\n",
       "      <td>sind</td>\n",
       "      <td>größer</td>\n",
       "      <td>ADV</td>\n",
       "      <td>VAFIN</td>\n",
       "    </tr>\n",
       "    <tr>\n",
       "      <th>798</th>\n",
       "      <td>42</td>\n",
       "      <td>9</td>\n",
       "      <td>größer</td>\n",
       "      <td>ADJD</td>\n",
       "      <td>weit</td>\n",
       "      <td>doch</td>\n",
       "      <td>als</td>\n",
       "      <td>ADJD</td>\n",
       "      <td>ADV</td>\n",
       "    </tr>\n",
       "    <tr>\n",
       "      <th>799</th>\n",
       "      <td>42</td>\n",
       "      <td>10</td>\n",
       "      <td>als</td>\n",
       "      <td>KOKOM</td>\n",
       "      <td>größer</td>\n",
       "      <td>weit</td>\n",
       "      <td>die</td>\n",
       "      <td>ADJD</td>\n",
       "      <td>ADJD</td>\n",
       "    </tr>\n",
       "    <tr>\n",
       "      <th>800</th>\n",
       "      <td>42</td>\n",
       "      <td>11</td>\n",
       "      <td>die</td>\n",
       "      <td>PDS</td>\n",
       "      <td>als</td>\n",
       "      <td>größer</td>\n",
       "      <td>eines</td>\n",
       "      <td>KOKOM</td>\n",
       "      <td>ADJD</td>\n",
       "    </tr>\n",
       "    <tr>\n",
       "      <th>801</th>\n",
       "      <td>42</td>\n",
       "      <td>12</td>\n",
       "      <td>eines</td>\n",
       "      <td>ART</td>\n",
       "      <td>die</td>\n",
       "      <td>als</td>\n",
       "      <td>Unternehmens</td>\n",
       "      <td>PDS</td>\n",
       "      <td>KOKOM</td>\n",
       "    </tr>\n",
       "    <tr>\n",
       "      <th>802</th>\n",
       "      <td>42</td>\n",
       "      <td>13</td>\n",
       "      <td>Unternehmens</td>\n",
       "      <td>NN</td>\n",
       "      <td>eines</td>\n",
       "      <td>die</td>\n",
       "      <td>''</td>\n",
       "      <td>ART</td>\n",
       "      <td>PDS</td>\n",
       "    </tr>\n",
       "    <tr>\n",
       "      <th>803</th>\n",
       "      <td>42</td>\n",
       "      <td>14</td>\n",
       "      <td>''</td>\n",
       "      <td>$(</td>\n",
       "      <td>Unternehmens</td>\n",
       "      <td>eines</td>\n",
       "      <td>,</td>\n",
       "      <td>NN</td>\n",
       "      <td>ART</td>\n",
       "    </tr>\n",
       "    <tr>\n",
       "      <th>804</th>\n",
       "      <td>42</td>\n",
       "      <td>15</td>\n",
       "      <td>,</td>\n",
       "      <td>$,</td>\n",
       "      <td>''</td>\n",
       "      <td>Unternehmens</td>\n",
       "      <td>meint</td>\n",
       "      <td>$(</td>\n",
       "      <td>NN</td>\n",
       "    </tr>\n",
       "    <tr>\n",
       "      <th>805</th>\n",
       "      <td>42</td>\n",
       "      <td>16</td>\n",
       "      <td>meint</td>\n",
       "      <td>VVFIN</td>\n",
       "      <td>,</td>\n",
       "      <td>''</td>\n",
       "      <td>Rudy</td>\n",
       "      <td>$,</td>\n",
       "      <td>$(</td>\n",
       "    </tr>\n",
       "    <tr>\n",
       "      <th>806</th>\n",
       "      <td>42</td>\n",
       "      <td>17</td>\n",
       "      <td>Rudy</td>\n",
       "      <td>NE</td>\n",
       "      <td>meint</td>\n",
       "      <td>,</td>\n",
       "      <td>Oswald</td>\n",
       "      <td>VVFIN</td>\n",
       "      <td>$,</td>\n",
       "    </tr>\n",
       "    <tr>\n",
       "      <th>807</th>\n",
       "      <td>42</td>\n",
       "      <td>18</td>\n",
       "      <td>Oswald</td>\n",
       "      <td>NE</td>\n",
       "      <td>Rudy</td>\n",
       "      <td>meint</td>\n",
       "      <td>,</td>\n",
       "      <td>NE</td>\n",
       "      <td>VVFIN</td>\n",
       "    </tr>\n",
       "    <tr>\n",
       "      <th>808</th>\n",
       "      <td>42</td>\n",
       "      <td>19</td>\n",
       "      <td>,</td>\n",
       "      <td>$,</td>\n",
       "      <td>Oswald</td>\n",
       "      <td>Rudy</td>\n",
       "      <td>Chefvolkswirt</td>\n",
       "      <td>NE</td>\n",
       "      <td>NE</td>\n",
       "    </tr>\n",
       "    <tr>\n",
       "      <th>809</th>\n",
       "      <td>42</td>\n",
       "      <td>20</td>\n",
       "      <td>Chefvolkswirt</td>\n",
       "      <td>NN</td>\n",
       "      <td>,</td>\n",
       "      <td>Oswald</td>\n",
       "      <td>beim</td>\n",
       "      <td>$,</td>\n",
       "      <td>NE</td>\n",
       "    </tr>\n",
       "    <tr>\n",
       "      <th>810</th>\n",
       "      <td>42</td>\n",
       "      <td>21</td>\n",
       "      <td>beim</td>\n",
       "      <td>APPRART</td>\n",
       "      <td>Chefvolkswirt</td>\n",
       "      <td>,</td>\n",
       "      <td>Gewerkschaftsbund</td>\n",
       "      <td>NN</td>\n",
       "      <td>$,</td>\n",
       "    </tr>\n",
       "    <tr>\n",
       "      <th>811</th>\n",
       "      <td>42</td>\n",
       "      <td>22</td>\n",
       "      <td>Gewerkschaftsbund</td>\n",
       "      <td>NN</td>\n",
       "      <td>beim</td>\n",
       "      <td>Chefvolkswirt</td>\n",
       "      <td>AFL-CIO</td>\n",
       "      <td>APPRART</td>\n",
       "      <td>NN</td>\n",
       "    </tr>\n",
       "    <tr>\n",
       "      <th>812</th>\n",
       "      <td>42</td>\n",
       "      <td>23</td>\n",
       "      <td>AFL-CIO</td>\n",
       "      <td>NE</td>\n",
       "      <td>Gewerkschaftsbund</td>\n",
       "      <td>beim</td>\n",
       "      <td>.</td>\n",
       "      <td>NN</td>\n",
       "      <td>APPRART</td>\n",
       "    </tr>\n",
       "    <tr>\n",
       "      <th>813</th>\n",
       "      <td>42</td>\n",
       "      <td>24</td>\n",
       "      <td>.</td>\n",
       "      <td>$.</td>\n",
       "      <td>AFL-CIO</td>\n",
       "      <td>Gewerkschaftsbund</td>\n",
       "      <td></td>\n",
       "      <td>NE</td>\n",
       "      <td>NN</td>\n",
       "    </tr>\n",
       "  </tbody>\n",
       "</table>\n",
       "</div>"
      ],
      "text/plain": [
       "     sent  tok               word      pos                 L1  \\\n",
       "790    42    1                 ``       $(                      \n",
       "791    42    2                Die      ART                 ``   \n",
       "792    42    3           Probleme       NN                Die   \n",
       "793    42    4            unseres   PPOSAT           Probleme   \n",
       "794    42    5             Landes       NN            unseres   \n",
       "795    42    6               sind    VAFIN             Landes   \n",
       "796    42    7               doch      ADV               sind   \n",
       "797    42    8               weit     ADJD               doch   \n",
       "798    42    9             größer     ADJD               weit   \n",
       "799    42   10                als    KOKOM             größer   \n",
       "800    42   11                die      PDS                als   \n",
       "801    42   12              eines      ART                die   \n",
       "802    42   13       Unternehmens       NN              eines   \n",
       "803    42   14                 ''       $(       Unternehmens   \n",
       "804    42   15                  ,       $,                 ''   \n",
       "805    42   16              meint    VVFIN                  ,   \n",
       "806    42   17               Rudy       NE              meint   \n",
       "807    42   18             Oswald       NE               Rudy   \n",
       "808    42   19                  ,       $,             Oswald   \n",
       "809    42   20      Chefvolkswirt       NN                  ,   \n",
       "810    42   21               beim  APPRART      Chefvolkswirt   \n",
       "811    42   22  Gewerkschaftsbund       NN               beim   \n",
       "812    42   23            AFL-CIO       NE  Gewerkschaftsbund   \n",
       "813    42   24                  .       $.            AFL-CIO   \n",
       "\n",
       "                    L2                 R1    posL1    posL2  \n",
       "790                                   Die        *        *  \n",
       "791                              Probleme       $(        *  \n",
       "792                 ``            unseres      ART       $(  \n",
       "793                Die             Landes       NN      ART  \n",
       "794           Probleme               sind   PPOSAT       NN  \n",
       "795            unseres               doch       NN   PPOSAT  \n",
       "796             Landes               weit    VAFIN       NN  \n",
       "797               sind             größer      ADV    VAFIN  \n",
       "798               doch                als     ADJD      ADV  \n",
       "799               weit                die     ADJD     ADJD  \n",
       "800             größer              eines    KOKOM     ADJD  \n",
       "801                als       Unternehmens      PDS    KOKOM  \n",
       "802                die                 ''      ART      PDS  \n",
       "803              eines                  ,       NN      ART  \n",
       "804       Unternehmens              meint       $(       NN  \n",
       "805                 ''               Rudy       $,       $(  \n",
       "806                  ,             Oswald    VVFIN       $,  \n",
       "807              meint                  ,       NE    VVFIN  \n",
       "808               Rudy      Chefvolkswirt       NE       NE  \n",
       "809             Oswald               beim       $,       NE  \n",
       "810                  ,  Gewerkschaftsbund       NN       $,  \n",
       "811      Chefvolkswirt            AFL-CIO  APPRART       NN  \n",
       "812               beim                  .       NN  APPRART  \n",
       "813  Gewerkschaftsbund                          NE       NN  "
      ]
     },
     "execution_count": 29,
     "metadata": {},
     "output_type": "execute_result"
    }
   ],
   "source": [
    "satz[\"L1\"] = satz.word.shift(1, fill_value=\"\")  # w_{t-1}\n",
    "satz[\"L2\"] = satz.word.shift(2, fill_value=\"\")  # w_{t-2}\n",
    "satz[\"R1\"] = satz.word.shift(-1, fill_value=\"\") # w_{t+1}\n",
    "satz[\"posL1\"] = satz.pos.shift(1, fill_value=\"*\") # für Trigramm-Tagger (später)\n",
    "satz[\"posL2\"] = satz.pos.shift(2, fill_value=\"*\")\n",
    "satz"
   ]
  },
  {
   "cell_type": "markdown",
   "id": "7210550b-bc06-4bca-aad6-fb0a1eab5cfb",
   "metadata": {},
   "source": [
    "Nun erweitern wir die Trainings- und Testdaten um diese 5 Spalten. Hier zeigt sich Pandas als sehr elegante Lösung."
   ]
  },
  {
   "cell_type": "code",
   "execution_count": 30,
   "id": "32b6d21e-fefd-4ab5-82c8-d469470124e9",
   "metadata": {},
   "outputs": [
    {
     "name": "stdout",
     "output_type": "stream",
     "text": [
      "CPU times: user 15.4 s, sys: 202 ms, total: 15.6 s\n",
      "Wall time: 15.5 s\n",
      "CPU times: user 7.37 s, sys: 145 ms, total: 7.51 s\n",
      "Wall time: 7.43 s\n"
     ]
    }
   ],
   "source": [
    "def add_context(satz):\n",
    "    satz[\"L1\"] = satz.word.shift(1, fill_value=\"\")  # w_{t-1}\n",
    "    satz[\"L2\"] = satz.word.shift(2, fill_value=\"\")  # w_{t-2}\n",
    "    satz[\"R1\"] = satz.word.shift(-1, fill_value=\"\") # w_{t+1}\n",
    "    satz[\"posL1\"] = satz.pos.shift(1, fill_value=\"*\") # für Trigramm-Tagger (später)\n",
    "    satz[\"posL2\"] = satz.pos.shift(2, fill_value=\"*\")\n",
    "    return satz\n",
    "\n",
    "%time train = train.groupby('sent').apply(add_context)\n",
    "%time test = test.groupby('sent').apply(add_context)"
   ]
  },
  {
   "cell_type": "code",
   "execution_count": 31,
   "id": "15854af3-7847-4104-a535-161febcf6f08",
   "metadata": {},
   "outputs": [
    {
     "data": {
      "text/html": [
       "<div>\n",
       "<style scoped>\n",
       "    .dataframe tbody tr th:only-of-type {\n",
       "        vertical-align: middle;\n",
       "    }\n",
       "\n",
       "    .dataframe tbody tr th {\n",
       "        vertical-align: top;\n",
       "    }\n",
       "\n",
       "    .dataframe thead th {\n",
       "        text-align: right;\n",
       "    }\n",
       "</style>\n",
       "<table border=\"1\" class=\"dataframe\">\n",
       "  <thead>\n",
       "    <tr style=\"text-align: right;\">\n",
       "      <th></th>\n",
       "      <th>sent</th>\n",
       "      <th>tok</th>\n",
       "      <th>word</th>\n",
       "      <th>pos</th>\n",
       "      <th>L1</th>\n",
       "      <th>L2</th>\n",
       "      <th>R1</th>\n",
       "      <th>posL1</th>\n",
       "      <th>posL2</th>\n",
       "    </tr>\n",
       "  </thead>\n",
       "  <tbody>\n",
       "    <tr>\n",
       "      <th>0</th>\n",
       "      <td>25001</td>\n",
       "      <td>1</td>\n",
       "      <td>Der</td>\n",
       "      <td>ART</td>\n",
       "      <td></td>\n",
       "      <td></td>\n",
       "      <td>Vertreter</td>\n",
       "      <td>*</td>\n",
       "      <td>*</td>\n",
       "    </tr>\n",
       "    <tr>\n",
       "      <th>1</th>\n",
       "      <td>25001</td>\n",
       "      <td>2</td>\n",
       "      <td>Vertreter</td>\n",
       "      <td>NN</td>\n",
       "      <td>Der</td>\n",
       "      <td></td>\n",
       "      <td>der</td>\n",
       "      <td>ART</td>\n",
       "      <td>*</td>\n",
       "    </tr>\n",
       "    <tr>\n",
       "      <th>2</th>\n",
       "      <td>25001</td>\n",
       "      <td>3</td>\n",
       "      <td>der</td>\n",
       "      <td>ART</td>\n",
       "      <td>Vertreter</td>\n",
       "      <td>Der</td>\n",
       "      <td>Brandt-Witwe</td>\n",
       "      <td>NN</td>\n",
       "      <td>ART</td>\n",
       "    </tr>\n",
       "    <tr>\n",
       "      <th>3</th>\n",
       "      <td>25001</td>\n",
       "      <td>4</td>\n",
       "      <td>Brandt-Witwe</td>\n",
       "      <td>NN</td>\n",
       "      <td>der</td>\n",
       "      <td>Vertreter</td>\n",
       "      <td>sah</td>\n",
       "      <td>ART</td>\n",
       "      <td>NN</td>\n",
       "    </tr>\n",
       "    <tr>\n",
       "      <th>4</th>\n",
       "      <td>25001</td>\n",
       "      <td>5</td>\n",
       "      <td>sah</td>\n",
       "      <td>VVFIN</td>\n",
       "      <td>Brandt-Witwe</td>\n",
       "      <td>der</td>\n",
       "      <td>es</td>\n",
       "      <td>NN</td>\n",
       "      <td>ART</td>\n",
       "    </tr>\n",
       "    <tr>\n",
       "      <th>5</th>\n",
       "      <td>25001</td>\n",
       "      <td>6</td>\n",
       "      <td>es</td>\n",
       "      <td>PPER</td>\n",
       "      <td>sah</td>\n",
       "      <td>Brandt-Witwe</td>\n",
       "      <td>anders</td>\n",
       "      <td>VVFIN</td>\n",
       "      <td>NN</td>\n",
       "    </tr>\n",
       "    <tr>\n",
       "      <th>6</th>\n",
       "      <td>25001</td>\n",
       "      <td>7</td>\n",
       "      <td>anders</td>\n",
       "      <td>ADV</td>\n",
       "      <td>es</td>\n",
       "      <td>sah</td>\n",
       "      <td>.</td>\n",
       "      <td>PPER</td>\n",
       "      <td>VVFIN</td>\n",
       "    </tr>\n",
       "    <tr>\n",
       "      <th>7</th>\n",
       "      <td>25001</td>\n",
       "      <td>8</td>\n",
       "      <td>.</td>\n",
       "      <td>$.</td>\n",
       "      <td>anders</td>\n",
       "      <td>es</td>\n",
       "      <td></td>\n",
       "      <td>ADV</td>\n",
       "      <td>PPER</td>\n",
       "    </tr>\n",
       "    <tr>\n",
       "      <th>8</th>\n",
       "      <td>25002</td>\n",
       "      <td>1</td>\n",
       "      <td>Die</td>\n",
       "      <td>ART</td>\n",
       "      <td></td>\n",
       "      <td></td>\n",
       "      <td>Gedächtnismünze</td>\n",
       "      <td>*</td>\n",
       "      <td>*</td>\n",
       "    </tr>\n",
       "    <tr>\n",
       "      <th>9</th>\n",
       "      <td>25002</td>\n",
       "      <td>2</td>\n",
       "      <td>Gedächtnismünze</td>\n",
       "      <td>NN</td>\n",
       "      <td>Die</td>\n",
       "      <td></td>\n",
       "      <td>,</td>\n",
       "      <td>ART</td>\n",
       "      <td>*</td>\n",
       "    </tr>\n",
       "    <tr>\n",
       "      <th>10</th>\n",
       "      <td>25002</td>\n",
       "      <td>3</td>\n",
       "      <td>,</td>\n",
       "      <td>$,</td>\n",
       "      <td>Gedächtnismünze</td>\n",
       "      <td>Die</td>\n",
       "      <td>die</td>\n",
       "      <td>NN</td>\n",
       "      <td>ART</td>\n",
       "    </tr>\n",
       "    <tr>\n",
       "      <th>11</th>\n",
       "      <td>25002</td>\n",
       "      <td>4</td>\n",
       "      <td>die</td>\n",
       "      <td>PRELS</td>\n",
       "      <td>,</td>\n",
       "      <td>Gedächtnismünze</td>\n",
       "      <td>aufgrund</td>\n",
       "      <td>$,</td>\n",
       "      <td>NN</td>\n",
       "    </tr>\n",
       "    <tr>\n",
       "      <th>12</th>\n",
       "      <td>25002</td>\n",
       "      <td>5</td>\n",
       "      <td>aufgrund</td>\n",
       "      <td>APPR</td>\n",
       "      <td>die</td>\n",
       "      <td>,</td>\n",
       "      <td>ihres</td>\n",
       "      <td>PRELS</td>\n",
       "      <td>$,</td>\n",
       "    </tr>\n",
       "    <tr>\n",
       "      <th>13</th>\n",
       "      <td>25002</td>\n",
       "      <td>6</td>\n",
       "      <td>ihres</td>\n",
       "      <td>PPOSAT</td>\n",
       "      <td>aufgrund</td>\n",
       "      <td>die</td>\n",
       "      <td>Preises</td>\n",
       "      <td>APPR</td>\n",
       "      <td>PRELS</td>\n",
       "    </tr>\n",
       "    <tr>\n",
       "      <th>14</th>\n",
       "      <td>25002</td>\n",
       "      <td>7</td>\n",
       "      <td>Preises</td>\n",
       "      <td>NN</td>\n",
       "      <td>ihres</td>\n",
       "      <td>aufgrund</td>\n",
       "      <td>und</td>\n",
       "      <td>PPOSAT</td>\n",
       "      <td>APPR</td>\n",
       "    </tr>\n",
       "    <tr>\n",
       "      <th>15</th>\n",
       "      <td>25002</td>\n",
       "      <td>8</td>\n",
       "      <td>und</td>\n",
       "      <td>KON</td>\n",
       "      <td>Preises</td>\n",
       "      <td>ihres</td>\n",
       "      <td>der</td>\n",
       "      <td>NN</td>\n",
       "      <td>PPOSAT</td>\n",
       "    </tr>\n",
       "    <tr>\n",
       "      <th>16</th>\n",
       "      <td>25002</td>\n",
       "      <td>9</td>\n",
       "      <td>der</td>\n",
       "      <td>ART</td>\n",
       "      <td>und</td>\n",
       "      <td>Preises</td>\n",
       "      <td>eingeschränkten</td>\n",
       "      <td>KON</td>\n",
       "      <td>NN</td>\n",
       "    </tr>\n",
       "    <tr>\n",
       "      <th>17</th>\n",
       "      <td>25002</td>\n",
       "      <td>10</td>\n",
       "      <td>eingeschränkten</td>\n",
       "      <td>ADJA</td>\n",
       "      <td>der</td>\n",
       "      <td>und</td>\n",
       "      <td>Auflage</td>\n",
       "      <td>ART</td>\n",
       "      <td>KON</td>\n",
       "    </tr>\n",
       "    <tr>\n",
       "      <th>18</th>\n",
       "      <td>25002</td>\n",
       "      <td>11</td>\n",
       "      <td>Auflage</td>\n",
       "      <td>NN</td>\n",
       "      <td>eingeschränkten</td>\n",
       "      <td>der</td>\n",
       "      <td>nur</td>\n",
       "      <td>ADJA</td>\n",
       "      <td>ART</td>\n",
       "    </tr>\n",
       "    <tr>\n",
       "      <th>19</th>\n",
       "      <td>25002</td>\n",
       "      <td>12</td>\n",
       "      <td>nur</td>\n",
       "      <td>ADV</td>\n",
       "      <td>Auflage</td>\n",
       "      <td>eingeschränkten</td>\n",
       "      <td>einem</td>\n",
       "      <td>NN</td>\n",
       "      <td>ADJA</td>\n",
       "    </tr>\n",
       "  </tbody>\n",
       "</table>\n",
       "</div>"
      ],
      "text/plain": [
       "     sent  tok             word     pos               L1               L2  \\\n",
       "0   25001    1              Der     ART                                     \n",
       "1   25001    2        Vertreter      NN              Der                    \n",
       "2   25001    3              der     ART        Vertreter              Der   \n",
       "3   25001    4     Brandt-Witwe      NN              der        Vertreter   \n",
       "4   25001    5              sah   VVFIN     Brandt-Witwe              der   \n",
       "5   25001    6               es    PPER              sah     Brandt-Witwe   \n",
       "6   25001    7           anders     ADV               es              sah   \n",
       "7   25001    8                .      $.           anders               es   \n",
       "8   25002    1              Die     ART                                     \n",
       "9   25002    2  Gedächtnismünze      NN              Die                    \n",
       "10  25002    3                ,      $,  Gedächtnismünze              Die   \n",
       "11  25002    4              die   PRELS                ,  Gedächtnismünze   \n",
       "12  25002    5         aufgrund    APPR              die                ,   \n",
       "13  25002    6            ihres  PPOSAT         aufgrund              die   \n",
       "14  25002    7          Preises      NN            ihres         aufgrund   \n",
       "15  25002    8              und     KON          Preises            ihres   \n",
       "16  25002    9              der     ART              und          Preises   \n",
       "17  25002   10  eingeschränkten    ADJA              der              und   \n",
       "18  25002   11          Auflage      NN  eingeschränkten              der   \n",
       "19  25002   12              nur     ADV          Auflage  eingeschränkten   \n",
       "\n",
       "                 R1   posL1   posL2  \n",
       "0         Vertreter       *       *  \n",
       "1               der     ART       *  \n",
       "2      Brandt-Witwe      NN     ART  \n",
       "3               sah     ART      NN  \n",
       "4                es      NN     ART  \n",
       "5            anders   VVFIN      NN  \n",
       "6                 .    PPER   VVFIN  \n",
       "7                       ADV    PPER  \n",
       "8   Gedächtnismünze       *       *  \n",
       "9                 ,     ART       *  \n",
       "10              die      NN     ART  \n",
       "11         aufgrund      $,      NN  \n",
       "12            ihres   PRELS      $,  \n",
       "13          Preises    APPR   PRELS  \n",
       "14              und  PPOSAT    APPR  \n",
       "15              der      NN  PPOSAT  \n",
       "16  eingeschränkten     KON      NN  \n",
       "17          Auflage     ART     KON  \n",
       "18              nur    ADJA     ART  \n",
       "19            einem      NN    ADJA  "
      ]
     },
     "execution_count": 31,
     "metadata": {},
     "output_type": "execute_result"
    }
   ],
   "source": [
    "test.head(20)"
   ]
  },
  {
   "cell_type": "markdown",
   "id": "8981dcc4-f6fc-4754-a28a-1987c52c1754",
   "metadata": {},
   "source": [
    "> **Aufgabe:** Extrahieren Sie passende Merkmalsvektoren für die Kontextwörtern `L1`, `L2` und `R1` (analog dazu, wie wir es oben für das jeweils zu taggende Token gemacht haben).  Da es sich um das gleiche Wortformeninventar handelt wie bei der Spalte `word`, können Sie die bereits trainierten Vectorizer weiterverwenden.  (**Frage:** Warum könnte es dennoch sinnvoll sein, eigene Vectorizer für die Kontextwörter zu trainieren? Denken Sie insbesondere an Satzanfang und -ende.)\n",
    ">\n",
    "> Definieren Sie dazu die Funktion `get_features(tok, word)`, die zwei Vektoren mit den Token-Nummern und den Wortformen als Argumente erwartet und daraus eine vollständige Merkmalsmatrix (mit Wortform-, Affix- und den weiteren Merkmalen) erstellt. Der Aufruf `get_features(train.tok, train.word)` sollte genau die ursprüngliche Merkmalsmatrix `X` zurückliefern. Sie können dann z.B. mit `get_features(train.tok - 1, train.L1)` Kontextmerkmale für das vorangehende Wort ermitteln.\n",
    "> \n",
    "> Fügen Sie dann mit `sp.sparse.hstack()` alle Merkmalsvektoren zu einer großen Merkmalsmatrix `X2` zusammen. Erstellen Sie auch eine entsprechende Merkmalsmatrix `testX2` für die Testdaten. Bitte halten Sie sich an die vorgegebenen Variablennamen, damit der Programmcode weiter unten korrekt funktioniert. (**Tipp:** Es bietet sich an, geeignete Hilfsfunktionen zu definieren, um allzu viel Copy & Paste zu vermeiden.)"
   ]
  },
  {
   "cell_type": "code",
   "execution_count": null,
   "id": "fa92f7d0-f025-4637-bffd-44a586acd544",
   "metadata": {},
   "outputs": [],
   "source": [
    "def get_features(tok, word):\n",
    "    return None"
   ]
  },
  {
   "cell_type": "code",
   "execution_count": null,
   "id": "429162d4-1c2e-4475-9880-3b09d4e8ab02",
   "metadata": {},
   "outputs": [],
   "source": []
  },
  {
   "cell_type": "code",
   "execution_count": null,
   "id": "dbfa88e3-04fe-485c-88f8-d99966be8116",
   "metadata": {},
   "outputs": [],
   "source": [
    "X2 = None\n",
    "testX3 = None"
   ]
  },
  {
   "cell_type": "markdown",
   "id": "bfd3062c-1392-4666-88ba-996c4ecd2c21",
   "metadata": {},
   "source": [
    "> **Aufgabe:** Trainieren Sie jetzt ein geeignetes Klassifikationsverfahren auf der Merkmalsmatrix mit Oberflächenkontext und evaluieren Sie es auf den Testdaten. Wie beurteilen Sie die Ergebnisse? Experimentieren Sie dabei auch mit den Metaparametern des Lernverfahrens und probieren Sie ggf. unterschiedliche Anzahlen von Kontextwörtern aus. Führen Sie schließlich eine erneute Fehleranalyse durch.\n",
    ">\n",
    "> **Tipp:** Wir haben oben mit Stochastic Gradient Descent (bei einer Regularisierungsstärke von $\\alpha = 10^{-5}$) gute Erfahrungen gemacht. Mit diesem Lernverfahren werden Ihnen die folgenden Experimente wesentlich weniger Geduld abverlangen. (Denken Sie daran, `n_jobs=-1` anzugeben!)"
   ]
  },
  {
   "cell_type": "code",
   "execution_count": null,
   "id": "22464788-f47e-411d-bb19-5ff0c05d4faf",
   "metadata": {},
   "outputs": [],
   "source": []
  },
  {
   "cell_type": "code",
   "execution_count": null,
   "id": "1033d06d-4aa3-4141-ad6f-9ebf09459922",
   "metadata": {},
   "outputs": [],
   "source": []
  },
  {
   "cell_type": "markdown",
   "id": "4f4110fc-b083-43fd-81b8-912276ebcf02",
   "metadata": {},
   "source": []
  },
  {
   "cell_type": "markdown",
   "id": "b21fdc1f-3225-4a32-ae12-2562630d4b17",
   "metadata": {},
   "source": [
    "## Trigramm-Tagger"
   ]
  },
  {
   "cell_type": "markdown",
   "id": "38787b90-4c12-4105-8e60-4e878e4d905b",
   "metadata": {},
   "source": [
    "Zum Schluss skizzieren wir noch die Implementierung eines Trigramm-Taggers als maschinelles Lernverfahren. Im Grunde fügen wir die zwei vorangehenden Tags mit _dummy coding_ an die Merkmalsmatrix an. Da lineare Klassifikatoren keine Merkmalskombinationen lernen können, müssen wir das Bigramm `posL2 posL1` explizit als Merkmal ergänzen. Am bequemsten ist hier ein `OneHotEncoder`, der mit oder ohne OOV konfiguriert werden kann und der sich sogar direkt auf einen DataFrame anwenden lässt (hier aber etwas günstiger mit einer Numpy-Matrix)."
   ]
  },
  {
   "cell_type": "code",
   "execution_count": 37,
   "id": "b6be9e2b-600e-4e28-a906-a75e15d6ccd3",
   "metadata": {},
   "outputs": [
    {
     "data": {
      "text/plain": [
       "(449285, 1096)"
      ]
     },
     "execution_count": 37,
     "metadata": {},
     "output_type": "execute_result"
    }
   ],
   "source": [
    "pos_vectorizer = OneHotEncoder(handle_unknown = 'infrequent_if_exist', min_frequency=5)\n",
    "tmp = np.vstack([train.posL1, train.posL2, train.posL2 + \" \" + train.posL1]).T\n",
    "X_pos = pos_vectorizer.fit_transform(tmp)\n",
    "X_pos.shape"
   ]
  },
  {
   "cell_type": "code",
   "execution_count": 38,
   "id": "5816ed52-a15a-4f7b-a5ba-2dcbdbaa74f4",
   "metadata": {
    "tags": []
   },
   "outputs": [
    {
     "data": {
      "text/plain": [
       "(222703, 1096)"
      ]
     },
     "execution_count": 38,
     "metadata": {},
     "output_type": "execute_result"
    }
   ],
   "source": [
    "tmp = np.vstack([test.posL1, test.posL2, test.posL2 + \" \" + test.posL1]).T\n",
    "testX_pos = pos_vectorizer.transform(tmp)\n",
    "testX_pos.shape"
   ]
  },
  {
   "cell_type": "markdown",
   "id": "a9b1ce1a-94e1-4e0c-9b19-4e8640880732",
   "metadata": {},
   "source": [
    "> **Aufgabe:** Fügen Sie die zusätzlichen Merkmale zur Merkmalsmatrix `X2` hinzu (und analog für die Testdaten). Halten Sie sich wiederum an die unten vorgegebenen Variablennamen. Trainieren Sie dann eine **lineare SVM** auf der erweiterten Merkmalsmatrix und evaluieren Sie sie auf den Testdaten.\n",
    "> \n",
    "> **Frage:** Sind diese Evaluationsergebnisse realistisch, d.h. können wir auf unbekannten Texten eine vergleichbare Genauigkeit erwarten wie auf den Testdaten?"
   ]
  },
  {
   "cell_type": "code",
   "execution_count": 39,
   "id": "1b1e5da7-d204-416c-945e-882cdae87e6b",
   "metadata": {},
   "outputs": [],
   "source": [
    "X3 = None\n",
    "testX3 = None"
   ]
  },
  {
   "cell_type": "code",
   "execution_count": null,
   "id": "f014a262-cf92-4383-bd6d-3b8c6173f4bc",
   "metadata": {},
   "outputs": [],
   "source": []
  },
  {
   "cell_type": "markdown",
   "id": "c7e8622f-bc97-4c5b-8c88-49a501ccdb44",
   "metadata": {},
   "source": []
  },
  {
   "cell_type": "markdown",
   "id": "78b7838f-1d9e-4aee-9963-8491da6b0b43",
   "metadata": {},
   "source": [
    "### Greedy Tagger\n",
    "\n",
    "Um diesen Tagger überhaupt auf neue Eingabesätze anwenden zu können, für die im Gegensatz zu unseren Testdaten noch keine POS-Tags vorliegen, müssen wir jedes Token einzeln verarbeiten und für das nächste Token dann jeweils die POS-Kontextmerkmale an den Merkmalsvektor anhängen.  Wir definieren dazu eine Hilfsfunktion, die einen einzelnen Satz aus dem Testkorpus in dieser Form verarbeitet. Wir müssen dabei sicherstellen, dass die Matrix im CSR-Format vorliegt, um nachher leicht einzelne Merkmalsvektoren (= Zeilen) herausgreifen zu können."
   ]
  },
  {
   "cell_type": "code",
   "execution_count": 67,
   "id": "2028d4bf-bb2b-4ab4-b707-8ecd02ee9f2c",
   "metadata": {},
   "outputs": [],
   "source": [
    "def get_all_features(satz):\n",
    "    return sp.sparse.hstack([\n",
    "        get_features(satz.tok, satz.word),\n",
    "        get_features(satz.tok - 1, satz.L1),\n",
    "        get_features(satz.tok - 2, satz.L2),\n",
    "        get_features(satz.tok + 1, satz.R1),\n",
    "    ], format='csr')"
   ]
  },
  {
   "cell_type": "markdown",
   "id": "67be3cbc-d11f-41b8-a16d-140376126292",
   "metadata": {},
   "source": [
    "Um einen Satz mit dem Greedy Tagger zu verarbeiten, erstellen wir zunächst eine Merkmalsmatrix analog zu `X2` für den Satz. Wir gehen diese Matrix dann Zeile für Zeile durch, hängen an den Merkmalsvektor die Merkmale für die vorhergehenden POS-Tags an (um einen Vektor analog zu `X3` zu erhalten) und wenden den Klassifikator auf den resultierenden Zeilenvektor an."
   ]
  },
  {
   "cell_type": "code",
   "execution_count": 68,
   "id": "682dbf3a-dabd-4e52-af66-061479cd6bdc",
   "metadata": {},
   "outputs": [],
   "source": [
    "def tag_sentence(satz):\n",
    "    n = satz.shape[0]\n",
    "    X = get_all_features(satz) # Matrix der Oberflächenmerkmale\n",
    "    tags = []\n",
    "    p1 = p2 = \"*\"              # vorhergehende POS-Tags\n",
    "    for i in range(n):\n",
    "        x1 = X[i, :]\n",
    "        x2 = pos_vectorizer.transform(np.array([[p1, p2, p2 + \" \" + p1]]))\n",
    "        x = sp.sparse.hstack([x1, x2])\n",
    "        tag = clf.predict(x)[0] # liefert NumPy-Array zurück\n",
    "        tags.append(tag)\n",
    "        p2, p1 = p1, tag\n",
    "    return pd.Series(tags, index=satz.index, dtype='string')"
   ]
  },
  {
   "cell_type": "code",
   "execution_count": null,
   "id": "2af6d57c-0827-411c-a2b6-1cc82a1bd867",
   "metadata": {},
   "outputs": [],
   "source": [
    "satz['tag'] = tag_sentence(satz)\n",
    "satz.loc[:, (\"sent\", \"tok\", \"word\", \"pos\", \"tag\")]"
   ]
  },
  {
   "cell_type": "markdown",
   "id": "ce8db255-9d8e-45e3-9fe9-3cb1f09bf985",
   "metadata": {},
   "source": [
    "Diese Funktion müssen wir nun auf jeden Satz der Testdaten anwenden, was deutlich länger dauern wird als bisher."
   ]
  },
  {
   "cell_type": "code",
   "execution_count": null,
   "id": "737c1267-f155-4df3-b563-dbabea1b6a7b",
   "metadata": {},
   "outputs": [],
   "source": [
    "%%time\n",
    "predicted = test.groupby('sent').apply(tag_sentence)"
   ]
  },
  {
   "cell_type": "markdown",
   "id": "bfc82a22-fc9b-4ae5-8aa8-3270cf445786",
   "metadata": {},
   "source": [
    "Die realistisch berechnete Genauigkeit ist kaum besser als beim Tagger, der nur Oberflächenkontext genutzt hat. Daher stellt sich die Frage, ob der viel höhere Zeitaufwand gerechtfertigt ist! Vielleicht lässt sich auch ohne Sequenzmodell durch weitere Optimierungen ein hinreichend guter Tagger implementieren."
   ]
  },
  {
   "cell_type": "code",
   "execution_count": null,
   "id": "0cedfc21-2498-41e2-b1ea-a6c7084787da",
   "metadata": {},
   "outputs": [],
   "source": [
    "print(accuracy_score(predicted, test.pos))"
   ]
  },
  {
   "cell_type": "markdown",
   "id": "22f35052-6074-4d6f-b4ea-cdd5ce13a4ba",
   "metadata": {},
   "source": [
    "**Tipp:** Eine Evaluation auf den Trainingsdaten legt nahe, dass die SVM hochgradig übertrainiert ist. Möglicherweise würde eine stärkere Regularisierung oder eine geeignete Merkmalsselektion die Genauigkeit auf den Testdaten verbessern."
   ]
  },
  {
   "cell_type": "code",
   "execution_count": null,
   "id": "dd0d1512-a555-4e91-9050-479217bcc9a4",
   "metadata": {
    "tags": []
   },
   "outputs": [],
   "source": [
    "clf.score(X3, train.pos)"
   ]
  }
 ],
 "metadata": {
  "kernelspec": {
   "display_name": "Python 3 (ipykernel)",
   "language": "python",
   "name": "python3"
  },
  "language_info": {
   "codemirror_mode": {
    "name": "ipython",
    "version": 3
   },
   "file_extension": ".py",
   "mimetype": "text/x-python",
   "name": "python",
   "nbconvert_exporter": "python",
   "pygments_lexer": "ipython3",
   "version": "3.9.16"
  }
 },
 "nbformat": 4,
 "nbformat_minor": 5
}
